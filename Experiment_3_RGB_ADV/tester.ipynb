{
 "cells": [
  {
   "cell_type": "code",
   "execution_count": 1,
   "metadata": {},
   "outputs": [],
   "source": [
    "import torch\n",
    "import torch.nn as nn\n",
    "import torch.optim as optim\n",
    "from torchsummary import summary\n",
    "from torch.utils.data import DataLoader\n",
    "from torchvision import datasets\n",
    "import numpy as np\n",
    "import random\n",
    "from model_structure import get_preprocessing_transforms,BCNN, train_model, evaluate_model"
   ]
  },
  {
   "cell_type": "code",
   "execution_count": 2,
   "metadata": {},
   "outputs": [],
   "source": [
    "INPUT_SIZE = 224\n",
    "BATCH_SIZE=32\n",
    "DEVICE = torch.device('cuda' if torch.cuda.is_available() else 'cpu')"
   ]
  },
  {
   "cell_type": "code",
   "execution_count": 3,
   "metadata": {},
   "outputs": [],
   "source": [
    "def read_data():\n",
    "    # Get transforms\n",
    "    train_transform, val_transform = get_preprocessing_transforms(INPUT_SIZE)\n",
    "\n",
    "    test_data_1_dir = 'data4model_1/test/'\n",
    "    test_data_2_dir = 'data4model_2/test/'\n",
    "    train_data_1_dir = 'data4model_1/train/'\n",
    "    train_data_2_dir = 'data4model_2/train/'\n",
    "\n",
    "    # Load data set\n",
    "    dataset_test_1 = datasets.ImageFolder(test_data_1_dir,transform=val_transform)\n",
    "    dataset_train_1 = datasets.ImageFolder(train_data_1_dir,transform=train_transform)\n",
    "    dataset_test_2 = datasets.ImageFolder(test_data_2_dir,transform=val_transform)\n",
    "    dataset_train_2 = datasets.ImageFolder(train_data_2_dir,transform=train_transform)\n",
    "\n",
    "    test_loader_1 = DataLoader(dataset_test_1, shuffle=False, batch_size=BATCH_SIZE)\n",
    "    train_loader_1 = DataLoader(dataset_train_1, shuffle=False, batch_size=BATCH_SIZE)\n",
    "    test_loader_2 = DataLoader(dataset_test_2, shuffle=False, batch_size=BATCH_SIZE)\n",
    "    train_loader_2 = DataLoader(dataset_train_2, shuffle=False, batch_size=BATCH_SIZE)\n",
    "\n",
    "    return {\"Model_1:Train\": train_loader_1,\n",
    "            \"Model_1:Test\": test_loader_1,\n",
    "            \"Model_2:Train\": train_loader_2,\n",
    "            \"Model_2:Test\": test_loader_2}"
   ]
  },
  {
   "cell_type": "code",
   "execution_count": 4,
   "metadata": {},
   "outputs": [],
   "source": [
    "model_1_dir = 'best_model_1.pth'\n",
    "model_2_dir = 'best_model_2.pth'"
   ]
  },
  {
   "cell_type": "code",
   "execution_count": 5,
   "metadata": {},
   "outputs": [
    {
     "name": "stderr",
     "output_type": "stream",
     "text": [
      "C:\\Users\\hskay\\AppData\\Local\\Temp\\ipykernel_3080\\2999396719.py:3: FutureWarning: You are using `torch.load` with `weights_only=False` (the current default value), which uses the default pickle module implicitly. It is possible to construct malicious pickle data which will execute arbitrary code during unpickling (See https://github.com/pytorch/pytorch/blob/main/SECURITY.md#untrusted-models for more details). In a future release, the default value for `weights_only` will be flipped to `True`. This limits the functions that could be executed during unpickling. Arbitrary objects will no longer be allowed to be loaded via this mode unless they are explicitly allowlisted by the user via `torch.serialization.add_safe_globals`. We recommend you start setting `weights_only=True` for any use case where you don't have full control of the loaded file. Please open an issue on GitHub for any issues related to this experimental feature.\n",
      "  weights = torch.load(model_1_dir, map_location=torch.device(DEVICE))\n",
      "C:\\Users\\hskay\\AppData\\Local\\Temp\\ipykernel_3080\\2999396719.py:8: FutureWarning: You are using `torch.load` with `weights_only=False` (the current default value), which uses the default pickle module implicitly. It is possible to construct malicious pickle data which will execute arbitrary code during unpickling (See https://github.com/pytorch/pytorch/blob/main/SECURITY.md#untrusted-models for more details). In a future release, the default value for `weights_only` will be flipped to `True`. This limits the functions that could be executed during unpickling. Arbitrary objects will no longer be allowed to be loaded via this mode unless they are explicitly allowlisted by the user via `torch.serialization.add_safe_globals`. We recommend you start setting `weights_only=True` for any use case where you don't have full control of the loaded file. Please open an issue on GitHub for any issues related to this experimental feature.\n",
      "  weights = torch.load(model_2_dir, map_location=torch.device(DEVICE))\n"
     ]
    },
    {
     "data": {
      "text/plain": [
       "BCNN(\n",
       "  (features): Sequential(\n",
       "    (0): Conv2d(3, 32, kernel_size=(3, 3), stride=(1, 1), padding=(1, 1))\n",
       "    (1): ReLU(inplace=True)\n",
       "    (2): MaxPool2d(kernel_size=2, stride=2, padding=0, dilation=1, ceil_mode=False)\n",
       "    (3): Dropout2d(p=0.25, inplace=False)\n",
       "    (4): Conv2d(32, 64, kernel_size=(3, 3), stride=(1, 1), padding=(1, 1))\n",
       "    (5): ReLU(inplace=True)\n",
       "    (6): MaxPool2d(kernel_size=2, stride=2, padding=0, dilation=1, ceil_mode=False)\n",
       "    (7): Dropout2d(p=0.25, inplace=False)\n",
       "    (8): Conv2d(64, 128, kernel_size=(3, 3), stride=(1, 1), padding=(1, 1))\n",
       "    (9): ReLU(inplace=True)\n",
       "    (10): MaxPool2d(kernel_size=2, stride=2, padding=0, dilation=1, ceil_mode=False)\n",
       "    (11): Dropout2d(p=0.25, inplace=False)\n",
       "  )\n",
       "  (classifier): Sequential(\n",
       "    (0): Flatten(start_dim=1, end_dim=-1)\n",
       "    (1): Linear(in_features=100352, out_features=512, bias=True)\n",
       "    (2): ReLU(inplace=True)\n",
       "    (3): Dropout(p=0.5, inplace=False)\n",
       "    (4): Linear(in_features=512, out_features=1, bias=True)\n",
       "    (5): Sigmoid()\n",
       "  )\n",
       ")"
      ]
     },
     "execution_count": 5,
     "metadata": {},
     "output_type": "execute_result"
    }
   ],
   "source": [
    "# Load the model\n",
    "model_1 = BCNN()\n",
    "weights = torch.load(model_1_dir, map_location=torch.device(DEVICE))\n",
    "model_1.load_state_dict(weights)\n",
    "model_1.eval()\n",
    "\n",
    "model_2 = BCNN()\n",
    "weights = torch.load(model_2_dir, map_location=torch.device(DEVICE))\n",
    "model_2.load_state_dict(weights)\n",
    "model_2.eval()"
   ]
  },
  {
   "cell_type": "code",
   "execution_count": 7,
   "metadata": {},
   "outputs": [
    {
     "name": "stdout",
     "output_type": "stream",
     "text": [
      "Model_1:Train\n",
      "Accuracy:  0.912\n",
      "F1 Score:  0.9115874079035499\n",
      "confusion Matrix: \n",
      " [[1375  125]\n",
      " [ 139 1361]]\n",
      "\n",
      "\n",
      "Model_1:Test\n",
      "Accuracy:  0.875\n",
      "F1 Score:  0.8743718592964824\n",
      "confusion Matrix: \n",
      " [[88 12]\n",
      " [13 87]]\n",
      "\n",
      "\n",
      "Model_2:Train\n",
      "Accuracy:  0.894\n",
      "F1 Score:  0.8924221921515562\n",
      "confusion Matrix: \n",
      " [[1363  137]\n",
      " [ 181 1319]]\n",
      "\n",
      "\n",
      "Model_2:Test\n",
      "Accuracy:  0.905\n",
      "F1 Score:  0.9090909090909091\n",
      "confusion Matrix: \n",
      " [[86 14]\n",
      " [ 5 95]]\n",
      "\n",
      "\n"
     ]
    }
   ],
   "source": [
    "dataSets = read_data()\n",
    "for key in dataSets:\n",
    "    print(key)\n",
    "    if \"Model_1\" in key:\n",
    "        model = model_1\n",
    "    else:\n",
    "        model = model_2\n",
    "    \n",
    "    results = evaluate_model(model.to(DEVICE), dataSets[key], DEVICE)\n",
    "    print(\"Accuracy: \", results[0])\n",
    "    print(\"F1 Score: \", results[1])\n",
    "    print(\"confusion Matrix: \\n\",results[3])\n",
    "    print(\"\\n\")"
   ]
  },
  {
   "cell_type": "code",
   "execution_count": null,
   "metadata": {},
   "outputs": [],
   "source": []
  }
 ],
 "metadata": {
  "kernelspec": {
   "display_name": "Python 3",
   "language": "python",
   "name": "python3"
  },
  "language_info": {
   "codemirror_mode": {
    "name": "ipython",
    "version": 3
   },
   "file_extension": ".py",
   "mimetype": "text/x-python",
   "name": "python",
   "nbconvert_exporter": "python",
   "pygments_lexer": "ipython3",
   "version": "3.11.9"
  }
 },
 "nbformat": 4,
 "nbformat_minor": 2
}
