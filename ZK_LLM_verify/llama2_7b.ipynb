{
 "cells": [
  {
   "cell_type": "code",
   "execution_count": null,
   "id": "a271ad4f",
   "metadata": {},
   "outputs": [],
   "source": [
    "#!pip install transformers\n",
    "#!pip install sentencepiece"
   ]
  },
  {
   "cell_type": "code",
   "execution_count": 1,
   "id": "cc2339d9",
   "metadata": {},
   "outputs": [],
   "source": [
    "import torch\n",
    "from transformers import LlamaTokenizer, LlamaForCausalLM"
   ]
  },
  {
   "cell_type": "code",
   "execution_count": 3,
   "id": "5af0dc88",
   "metadata": {},
   "outputs": [
    {
     "data": {
      "application/vnd.jupyter.widget-view+json": {
       "model_id": "097150a0bef0423d8984cc8fd9cdc6ac",
       "version_major": 2,
       "version_minor": 0
      },
      "text/plain": [
       "model.safetensors.index.json:   0%|          | 0.00/26.8k [00:00<?, ?B/s]"
      ]
     },
     "metadata": {},
     "output_type": "display_data"
    },
    {
     "data": {
      "application/vnd.jupyter.widget-view+json": {
       "model_id": "d17566dad4aa487085e43aaccce4008b",
       "version_major": 2,
       "version_minor": 0
      },
      "text/plain": [
       "Fetching 2 files:   0%|          | 0/2 [00:00<?, ?it/s]"
      ]
     },
     "metadata": {},
     "output_type": "display_data"
    },
    {
     "name": "stderr",
     "output_type": "stream",
     "text": [
      "Xet Storage is enabled for this repo, but the 'hf_xet' package is not installed. Falling back to regular HTTP download. For better performance, install the package with: `pip install huggingface_hub[hf_xet]` or `pip install hf_xet`\n",
      "Xet Storage is enabled for this repo, but the 'hf_xet' package is not installed. Falling back to regular HTTP download. For better performance, install the package with: `pip install huggingface_hub[hf_xet]` or `pip install hf_xet`\n"
     ]
    },
    {
     "data": {
      "application/vnd.jupyter.widget-view+json": {
       "model_id": "d6fe5c9af4ff43928ada16dbbabf17a7",
       "version_major": 2,
       "version_minor": 0
      },
      "text/plain": [
       "model-00001-of-00002.safetensors:   0%|          | 0.00/9.98G [00:00<?, ?B/s]"
      ]
     },
     "metadata": {},
     "output_type": "display_data"
    },
    {
     "data": {
      "application/vnd.jupyter.widget-view+json": {
       "model_id": "7df4158f11664cbabd519360a4337b0d",
       "version_major": 2,
       "version_minor": 0
      },
      "text/plain": [
       "model-00002-of-00002.safetensors:   0%|          | 0.00/3.50G [00:00<?, ?B/s]"
      ]
     },
     "metadata": {},
     "output_type": "display_data"
    },
    {
     "data": {
      "application/vnd.jupyter.widget-view+json": {
       "model_id": "c448d9e0f6aa4fa3bfe0db2a4cc7654c",
       "version_major": 2,
       "version_minor": 0
      },
      "text/plain": [
       "Loading checkpoint shards:   0%|          | 0/2 [00:00<?, ?it/s]"
      ]
     },
     "metadata": {},
     "output_type": "display_data"
    },
    {
     "data": {
      "application/vnd.jupyter.widget-view+json": {
       "model_id": "f36170377c2543d7b5deb8fac464f7ae",
       "version_major": 2,
       "version_minor": 0
      },
      "text/plain": [
       "generation_config.json:   0%|          | 0.00/188 [00:00<?, ?B/s]"
      ]
     },
     "metadata": {},
     "output_type": "display_data"
    }
   ],
   "source": [
    "model_name = \"meta-llama/Llama-2-7b-chat-hf\"\n",
    "tokenizer = LlamaTokenizer.from_pretrained(model_name)\n",
    "model = LlamaForCausalLM.from_pretrained(\n",
    "    model_name,\n",
    "    torch_dtype=torch.float16\n",
    ")\n"
   ]
  },
  {
   "cell_type": "code",
   "execution_count": 4,
   "id": "c18cfeb3",
   "metadata": {},
   "outputs": [],
   "source": [
    "class LayerActivationExtractor:\n",
    "    def __init__(self):\n",
    "        self.activations = {}\n",
    "        \n",
    "    def get_activation(self, name):\n",
    "        def hook(model, input, output):\n",
    "            self.activations[name] = output\n",
    "        return hook\n",
    "    \n",
    "    def register_hooks(self, model):\n",
    "        hooks = []\n",
    "        for i, layer in enumerate(model.model.layers):\n",
    "            hook = layer.register_forward_hook(self.get_activation(f'layer_{i}'))\n",
    "            hooks.append(hook)\n",
    "        return hooks\n",
    "    \n",
    "    def remove_hooks(self, hooks):\n",
    "        for hook in hooks:\n",
    "            hook.remove()"
   ]
  },
  {
   "cell_type": "code",
   "execution_count": 5,
   "id": "68df48b6",
   "metadata": {},
   "outputs": [],
   "source": [
    "extractor = LayerActivationExtractor()\n",
    "hooks = extractor.register_hooks(model)"
   ]
  },
  {
   "cell_type": "code",
   "execution_count": 6,
   "id": "5fdffc1b",
   "metadata": {},
   "outputs": [],
   "source": [
    "text = \"Hello, how are you?\"\n",
    "inputs = tokenizer(text, return_tensors=\"pt\")"
   ]
  },
  {
   "cell_type": "code",
   "execution_count": 7,
   "id": "a8599412",
   "metadata": {},
   "outputs": [],
   "source": [
    "with torch.no_grad():\n",
    "    outputs = model(**inputs)"
   ]
  },
  {
   "cell_type": "code",
   "execution_count": 11,
   "id": "998a84e7",
   "metadata": {},
   "outputs": [
    {
     "data": {
      "text/plain": [
       "CausalLMOutputWithPast(loss=None, logits=tensor([[[  0.1040,  -0.2217,   0.3130,  ...,   1.3271,   1.8799,   0.6436],\n",
       "         [ -7.5156,  -2.1777,  -1.1445,  ...,  -6.3711,  -4.6445,  -7.4688],\n",
       "         [ -7.5078,  -2.4102,   1.2578,  ...,  -3.6191,  -2.8809,  -5.0898],\n",
       "         ...,\n",
       "         [ -1.0938,   0.5630,   7.4570,  ...,   1.8789,   0.3020,  -0.4321],\n",
       "         [ -2.3301,   0.8994,   5.9570,  ...,  -0.1826,  -1.5830,  -2.1504],\n",
       "         [-10.2422,  -6.4375,   5.2031,  ...,  -4.2344,  -4.0898,  -5.2734]]],\n",
       "       dtype=torch.float16), past_key_values=DynamicCache(layers=[<transformers.cache_utils.DynamicLayer object at 0x0000019EA8E204D0>, <transformers.cache_utils.DynamicLayer object at 0x0000019EA818E0C0>, <transformers.cache_utils.DynamicLayer object at 0x0000019EA818FC50>, <transformers.cache_utils.DynamicLayer object at 0x0000019EA818E840>, <transformers.cache_utils.DynamicLayer object at 0x0000019EA818C950>, <transformers.cache_utils.DynamicLayer object at 0x0000019EA818FD70>, <transformers.cache_utils.DynamicLayer object at 0x0000019EA818D340>, <transformers.cache_utils.DynamicLayer object at 0x0000019EA4BAA4E0>, <transformers.cache_utils.DynamicLayer object at 0x0000019EA818CBF0>, <transformers.cache_utils.DynamicLayer object at 0x0000019EA818CAD0>, <transformers.cache_utils.DynamicLayer object at 0x0000019EA818F290>, <transformers.cache_utils.DynamicLayer object at 0x0000019EA818E6C0>, <transformers.cache_utils.DynamicLayer object at 0x0000019E90237320>, <transformers.cache_utils.DynamicLayer object at 0x0000019EA818D910>, <transformers.cache_utils.DynamicLayer object at 0x0000019EA8E23E90>, <transformers.cache_utils.DynamicLayer object at 0x0000019EA818EEA0>, <transformers.cache_utils.DynamicLayer object at 0x0000019EA818E060>, <transformers.cache_utils.DynamicLayer object at 0x0000019EA818E030>, <transformers.cache_utils.DynamicLayer object at 0x0000019EA818DB80>, <transformers.cache_utils.DynamicLayer object at 0x0000019EA818C290>, <transformers.cache_utils.DynamicLayer object at 0x0000019EA818C710>, <transformers.cache_utils.DynamicLayer object at 0x0000019EA818C830>, <transformers.cache_utils.DynamicLayer object at 0x0000019EA818C4A0>, <transformers.cache_utils.DynamicLayer object at 0x0000019EA818C3E0>, <transformers.cache_utils.DynamicLayer object at 0x0000019EA5287620>, <transformers.cache_utils.DynamicLayer object at 0x0000019EA818E600>, <transformers.cache_utils.DynamicLayer object at 0x0000019EA818C7A0>, <transformers.cache_utils.DynamicLayer object at 0x0000019EA818C800>, <transformers.cache_utils.DynamicLayer object at 0x0000019EA818E480>, <transformers.cache_utils.DynamicLayer object at 0x0000019EA818CE60>, <transformers.cache_utils.DynamicLayer object at 0x0000019EA818EA80>, <transformers.cache_utils.DynamicLayer object at 0x0000019EA818D760>]), hidden_states=None, attentions=None)"
      ]
     },
     "execution_count": 11,
     "metadata": {},
     "output_type": "execute_result"
    }
   ],
   "source": [
    "outputs"
   ]
  },
  {
   "cell_type": "code",
   "execution_count": 8,
   "id": "6c44211d",
   "metadata": {},
   "outputs": [
    {
     "name": "stdout",
     "output_type": "stream",
     "text": [
      "layer_0: torch.Size([7, 4096])\n",
      "layer_1: torch.Size([7, 4096])\n",
      "layer_2: torch.Size([7, 4096])\n",
      "layer_3: torch.Size([7, 4096])\n",
      "layer_4: torch.Size([7, 4096])\n",
      "layer_5: torch.Size([7, 4096])\n",
      "layer_6: torch.Size([7, 4096])\n",
      "layer_7: torch.Size([7, 4096])\n",
      "layer_8: torch.Size([7, 4096])\n",
      "layer_9: torch.Size([7, 4096])\n",
      "layer_10: torch.Size([7, 4096])\n",
      "layer_11: torch.Size([7, 4096])\n",
      "layer_12: torch.Size([7, 4096])\n",
      "layer_13: torch.Size([7, 4096])\n",
      "layer_14: torch.Size([7, 4096])\n",
      "layer_15: torch.Size([7, 4096])\n",
      "layer_16: torch.Size([7, 4096])\n",
      "layer_17: torch.Size([7, 4096])\n",
      "layer_18: torch.Size([7, 4096])\n",
      "layer_19: torch.Size([7, 4096])\n",
      "layer_20: torch.Size([7, 4096])\n",
      "layer_21: torch.Size([7, 4096])\n",
      "layer_22: torch.Size([7, 4096])\n",
      "layer_23: torch.Size([7, 4096])\n",
      "layer_24: torch.Size([7, 4096])\n",
      "layer_25: torch.Size([7, 4096])\n",
      "layer_26: torch.Size([7, 4096])\n",
      "layer_27: torch.Size([7, 4096])\n",
      "layer_28: torch.Size([7, 4096])\n",
      "layer_29: torch.Size([7, 4096])\n",
      "layer_30: torch.Size([7, 4096])\n",
      "layer_31: torch.Size([7, 4096])\n"
     ]
    }
   ],
   "source": [
    "for layer_name, activation in extractor.activations.items():\n",
    "    print(f\"{layer_name}: {activation[0].shape}\")"
   ]
  },
  {
   "cell_type": "code",
   "execution_count": 10,
   "id": "ad6cc0d0",
   "metadata": {},
   "outputs": [
    {
     "data": {
      "text/plain": [
       "LlamaForCausalLM(\n",
       "  (model): LlamaModel(\n",
       "    (embed_tokens): Embedding(32000, 4096)\n",
       "    (layers): ModuleList(\n",
       "      (0-31): 32 x LlamaDecoderLayer(\n",
       "        (self_attn): LlamaAttention(\n",
       "          (q_proj): Linear(in_features=4096, out_features=4096, bias=False)\n",
       "          (k_proj): Linear(in_features=4096, out_features=4096, bias=False)\n",
       "          (v_proj): Linear(in_features=4096, out_features=4096, bias=False)\n",
       "          (o_proj): Linear(in_features=4096, out_features=4096, bias=False)\n",
       "        )\n",
       "        (mlp): LlamaMLP(\n",
       "          (gate_proj): Linear(in_features=4096, out_features=11008, bias=False)\n",
       "          (up_proj): Linear(in_features=4096, out_features=11008, bias=False)\n",
       "          (down_proj): Linear(in_features=11008, out_features=4096, bias=False)\n",
       "          (act_fn): SiLU()\n",
       "        )\n",
       "        (input_layernorm): LlamaRMSNorm((4096,), eps=1e-05)\n",
       "        (post_attention_layernorm): LlamaRMSNorm((4096,), eps=1e-05)\n",
       "      )\n",
       "    )\n",
       "    (norm): LlamaRMSNorm((4096,), eps=1e-05)\n",
       "    (rotary_emb): LlamaRotaryEmbedding()\n",
       "  )\n",
       "  (lm_head): Linear(in_features=4096, out_features=32000, bias=False)\n",
       ")"
      ]
     },
     "execution_count": 10,
     "metadata": {},
     "output_type": "execute_result"
    }
   ],
   "source": [
    "model.eval()"
   ]
  },
  {
   "cell_type": "code",
   "execution_count": null,
   "id": "650fad35",
   "metadata": {},
   "outputs": [],
   "source": []
  },
  {
   "cell_type": "code",
   "execution_count": null,
   "id": "0739830a",
   "metadata": {},
   "outputs": [],
   "source": []
  },
  {
   "cell_type": "code",
   "execution_count": null,
   "id": "3d59c8ad",
   "metadata": {},
   "outputs": [],
   "source": []
  },
  {
   "cell_type": "code",
   "execution_count": null,
   "id": "799d824c",
   "metadata": {},
   "outputs": [],
   "source": []
  },
  {
   "cell_type": "code",
   "execution_count": null,
   "id": "32def31a",
   "metadata": {},
   "outputs": [],
   "source": []
  }
 ],
 "metadata": {
  "kernelspec": {
   "display_name": "base",
   "language": "python",
   "name": "python3"
  },
  "language_info": {
   "codemirror_mode": {
    "name": "ipython",
    "version": 3
   },
   "file_extension": ".py",
   "mimetype": "text/x-python",
   "name": "python",
   "nbconvert_exporter": "python",
   "pygments_lexer": "ipython3",
   "version": "3.12.4"
  }
 },
 "nbformat": 4,
 "nbformat_minor": 5
}
