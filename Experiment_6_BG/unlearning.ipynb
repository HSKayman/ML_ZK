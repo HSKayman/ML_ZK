{
 "cells": [
  {
   "cell_type": "code",
   "execution_count": 33,
   "id": "6126ebe2",
   "metadata": {},
   "outputs": [],
   "source": [
    "import torch\n",
    "import torch.nn as nn\n",
    "import torch.optim as optim\n",
    "from torch.utils.data import DataLoader, TensorDataset\n",
    "from sklearn.datasets import make_classification\n",
    "from sklearn.model_selection import train_test_split\n",
    "from sklearn.preprocessing import StandardScaler\n",
    "from sklearn.datasets import load_iris\n",
    "import numpy as np\n",
    "import matplotlib.pyplot as plt\n",
    "import seaborn as sns\n",
    "import torch.nn.functional as F\n",
    "import pandas as pd\n"
   ]
  },
  {
   "cell_type": "code",
   "execution_count": 34,
   "id": "c8a03637",
   "metadata": {},
   "outputs": [],
   "source": [
    "data = load_iris()"
   ]
  },
  {
   "cell_type": "code",
   "execution_count": 35,
   "id": "84bad784",
   "metadata": {},
   "outputs": [],
   "source": [
    "# Generate synthetic dataset\n",
    "# X, y = make_classification(n_samples=1000, n_features=20, n_informative=15, \n",
    "#                          n_redundant=5, n_classes=3, random_state=42)\n",
    "\n",
    "X = data.data\n",
    "y = data.target"
   ]
  },
  {
   "cell_type": "code",
   "execution_count": 36,
   "id": "33249338",
   "metadata": {},
   "outputs": [
    {
     "data": {
      "text/plain": [
       "(array([[5.1, 3.5, 1.4, 0.2],\n",
       "        [4.9, 3. , 1.4, 0.2],\n",
       "        [4.7, 3.2, 1.3, 0.2],\n",
       "        [4.6, 3.1, 1.5, 0.2],\n",
       "        [5. , 3.6, 1.4, 0.2],\n",
       "        [5.4, 3.9, 1.7, 0.4],\n",
       "        [4.6, 3.4, 1.4, 0.3],\n",
       "        [5. , 3.4, 1.5, 0.2],\n",
       "        [4.4, 2.9, 1.4, 0.2],\n",
       "        [4.9, 3.1, 1.5, 0.1],\n",
       "        [5.4, 3.7, 1.5, 0.2],\n",
       "        [4.8, 3.4, 1.6, 0.2],\n",
       "        [4.8, 3. , 1.4, 0.1],\n",
       "        [4.3, 3. , 1.1, 0.1],\n",
       "        [5.8, 4. , 1.2, 0.2],\n",
       "        [5.7, 4.4, 1.5, 0.4],\n",
       "        [5.4, 3.9, 1.3, 0.4],\n",
       "        [5.1, 3.5, 1.4, 0.3],\n",
       "        [5.7, 3.8, 1.7, 0.3],\n",
       "        [5.1, 3.8, 1.5, 0.3],\n",
       "        [5.4, 3.4, 1.7, 0.2],\n",
       "        [5.1, 3.7, 1.5, 0.4],\n",
       "        [4.6, 3.6, 1. , 0.2],\n",
       "        [5.1, 3.3, 1.7, 0.5],\n",
       "        [4.8, 3.4, 1.9, 0.2],\n",
       "        [5. , 3. , 1.6, 0.2],\n",
       "        [5. , 3.4, 1.6, 0.4],\n",
       "        [5.2, 3.5, 1.5, 0.2],\n",
       "        [5.2, 3.4, 1.4, 0.2],\n",
       "        [4.7, 3.2, 1.6, 0.2],\n",
       "        [4.8, 3.1, 1.6, 0.2],\n",
       "        [5.4, 3.4, 1.5, 0.4],\n",
       "        [5.2, 4.1, 1.5, 0.1],\n",
       "        [5.5, 4.2, 1.4, 0.2],\n",
       "        [4.9, 3.1, 1.5, 0.2],\n",
       "        [5. , 3.2, 1.2, 0.2],\n",
       "        [5.5, 3.5, 1.3, 0.2],\n",
       "        [4.9, 3.6, 1.4, 0.1],\n",
       "        [4.4, 3. , 1.3, 0.2],\n",
       "        [5.1, 3.4, 1.5, 0.2],\n",
       "        [5. , 3.5, 1.3, 0.3],\n",
       "        [4.5, 2.3, 1.3, 0.3],\n",
       "        [4.4, 3.2, 1.3, 0.2],\n",
       "        [5. , 3.5, 1.6, 0.6],\n",
       "        [5.1, 3.8, 1.9, 0.4],\n",
       "        [4.8, 3. , 1.4, 0.3],\n",
       "        [5.1, 3.8, 1.6, 0.2],\n",
       "        [4.6, 3.2, 1.4, 0.2],\n",
       "        [5.3, 3.7, 1.5, 0.2],\n",
       "        [5. , 3.3, 1.4, 0.2],\n",
       "        [7. , 3.2, 4.7, 1.4],\n",
       "        [6.4, 3.2, 4.5, 1.5],\n",
       "        [6.9, 3.1, 4.9, 1.5],\n",
       "        [5.5, 2.3, 4. , 1.3],\n",
       "        [6.5, 2.8, 4.6, 1.5],\n",
       "        [5.7, 2.8, 4.5, 1.3],\n",
       "        [6.3, 3.3, 4.7, 1.6],\n",
       "        [4.9, 2.4, 3.3, 1. ],\n",
       "        [6.6, 2.9, 4.6, 1.3],\n",
       "        [5.2, 2.7, 3.9, 1.4],\n",
       "        [5. , 2. , 3.5, 1. ],\n",
       "        [5.9, 3. , 4.2, 1.5],\n",
       "        [6. , 2.2, 4. , 1. ],\n",
       "        [6.1, 2.9, 4.7, 1.4],\n",
       "        [5.6, 2.9, 3.6, 1.3],\n",
       "        [6.7, 3.1, 4.4, 1.4],\n",
       "        [5.6, 3. , 4.5, 1.5],\n",
       "        [5.8, 2.7, 4.1, 1. ],\n",
       "        [6.2, 2.2, 4.5, 1.5],\n",
       "        [5.6, 2.5, 3.9, 1.1],\n",
       "        [5.9, 3.2, 4.8, 1.8],\n",
       "        [6.1, 2.8, 4. , 1.3],\n",
       "        [6.3, 2.5, 4.9, 1.5],\n",
       "        [6.1, 2.8, 4.7, 1.2],\n",
       "        [6.4, 2.9, 4.3, 1.3],\n",
       "        [6.6, 3. , 4.4, 1.4],\n",
       "        [6.8, 2.8, 4.8, 1.4],\n",
       "        [6.7, 3. , 5. , 1.7],\n",
       "        [6. , 2.9, 4.5, 1.5],\n",
       "        [5.7, 2.6, 3.5, 1. ],\n",
       "        [5.5, 2.4, 3.8, 1.1],\n",
       "        [5.5, 2.4, 3.7, 1. ],\n",
       "        [5.8, 2.7, 3.9, 1.2],\n",
       "        [6. , 2.7, 5.1, 1.6],\n",
       "        [5.4, 3. , 4.5, 1.5],\n",
       "        [6. , 3.4, 4.5, 1.6],\n",
       "        [6.7, 3.1, 4.7, 1.5],\n",
       "        [6.3, 2.3, 4.4, 1.3],\n",
       "        [5.6, 3. , 4.1, 1.3],\n",
       "        [5.5, 2.5, 4. , 1.3],\n",
       "        [5.5, 2.6, 4.4, 1.2],\n",
       "        [6.1, 3. , 4.6, 1.4],\n",
       "        [5.8, 2.6, 4. , 1.2],\n",
       "        [5. , 2.3, 3.3, 1. ],\n",
       "        [5.6, 2.7, 4.2, 1.3],\n",
       "        [5.7, 3. , 4.2, 1.2],\n",
       "        [5.7, 2.9, 4.2, 1.3],\n",
       "        [6.2, 2.9, 4.3, 1.3],\n",
       "        [5.1, 2.5, 3. , 1.1],\n",
       "        [5.7, 2.8, 4.1, 1.3],\n",
       "        [6.3, 3.3, 6. , 2.5],\n",
       "        [5.8, 2.7, 5.1, 1.9],\n",
       "        [7.1, 3. , 5.9, 2.1],\n",
       "        [6.3, 2.9, 5.6, 1.8],\n",
       "        [6.5, 3. , 5.8, 2.2],\n",
       "        [7.6, 3. , 6.6, 2.1],\n",
       "        [4.9, 2.5, 4.5, 1.7],\n",
       "        [7.3, 2.9, 6.3, 1.8],\n",
       "        [6.7, 2.5, 5.8, 1.8],\n",
       "        [7.2, 3.6, 6.1, 2.5],\n",
       "        [6.5, 3.2, 5.1, 2. ],\n",
       "        [6.4, 2.7, 5.3, 1.9],\n",
       "        [6.8, 3. , 5.5, 2.1],\n",
       "        [5.7, 2.5, 5. , 2. ],\n",
       "        [5.8, 2.8, 5.1, 2.4],\n",
       "        [6.4, 3.2, 5.3, 2.3],\n",
       "        [6.5, 3. , 5.5, 1.8],\n",
       "        [7.7, 3.8, 6.7, 2.2],\n",
       "        [7.7, 2.6, 6.9, 2.3],\n",
       "        [6. , 2.2, 5. , 1.5],\n",
       "        [6.9, 3.2, 5.7, 2.3],\n",
       "        [5.6, 2.8, 4.9, 2. ],\n",
       "        [7.7, 2.8, 6.7, 2. ],\n",
       "        [6.3, 2.7, 4.9, 1.8],\n",
       "        [6.7, 3.3, 5.7, 2.1],\n",
       "        [7.2, 3.2, 6. , 1.8],\n",
       "        [6.2, 2.8, 4.8, 1.8],\n",
       "        [6.1, 3. , 4.9, 1.8],\n",
       "        [6.4, 2.8, 5.6, 2.1],\n",
       "        [7.2, 3. , 5.8, 1.6],\n",
       "        [7.4, 2.8, 6.1, 1.9],\n",
       "        [7.9, 3.8, 6.4, 2. ],\n",
       "        [6.4, 2.8, 5.6, 2.2],\n",
       "        [6.3, 2.8, 5.1, 1.5],\n",
       "        [6.1, 2.6, 5.6, 1.4],\n",
       "        [7.7, 3. , 6.1, 2.3],\n",
       "        [6.3, 3.4, 5.6, 2.4],\n",
       "        [6.4, 3.1, 5.5, 1.8],\n",
       "        [6. , 3. , 4.8, 1.8],\n",
       "        [6.9, 3.1, 5.4, 2.1],\n",
       "        [6.7, 3.1, 5.6, 2.4],\n",
       "        [6.9, 3.1, 5.1, 2.3],\n",
       "        [5.8, 2.7, 5.1, 1.9],\n",
       "        [6.8, 3.2, 5.9, 2.3],\n",
       "        [6.7, 3.3, 5.7, 2.5],\n",
       "        [6.7, 3. , 5.2, 2.3],\n",
       "        [6.3, 2.5, 5. , 1.9],\n",
       "        [6.5, 3. , 5.2, 2. ],\n",
       "        [6.2, 3.4, 5.4, 2.3],\n",
       "        [5.9, 3. , 5.1, 1.8]]),\n",
       " array([0, 0, 0, 0, 0, 0, 0, 0, 0, 0, 0, 0, 0, 0, 0, 0, 0, 0, 0, 0, 0, 0,\n",
       "        0, 0, 0, 0, 0, 0, 0, 0, 0, 0, 0, 0, 0, 0, 0, 0, 0, 0, 0, 0, 0, 0,\n",
       "        0, 0, 0, 0, 0, 0, 1, 1, 1, 1, 1, 1, 1, 1, 1, 1, 1, 1, 1, 1, 1, 1,\n",
       "        1, 1, 1, 1, 1, 1, 1, 1, 1, 1, 1, 1, 1, 1, 1, 1, 1, 1, 1, 1, 1, 1,\n",
       "        1, 1, 1, 1, 1, 1, 1, 1, 1, 1, 1, 1, 2, 2, 2, 2, 2, 2, 2, 2, 2, 2,\n",
       "        2, 2, 2, 2, 2, 2, 2, 2, 2, 2, 2, 2, 2, 2, 2, 2, 2, 2, 2, 2, 2, 2,\n",
       "        2, 2, 2, 2, 2, 2, 2, 2, 2, 2, 2, 2, 2, 2, 2, 2, 2, 2]))"
      ]
     },
     "execution_count": 36,
     "metadata": {},
     "output_type": "execute_result"
    }
   ],
   "source": [
    "X,y"
   ]
  },
  {
   "cell_type": "code",
   "execution_count": 37,
   "id": "0e744295",
   "metadata": {},
   "outputs": [],
   "source": [
    "X_train, X_test, y_train, y_test = train_test_split(X, y, test_size=0.2, random_state=42)\n",
    "\n",
    "scaler = StandardScaler()\n",
    "X_train = scaler.fit_transform(X_train)\n",
    "X_test = scaler.transform(X_test)\n",
    "\n",
    "X_train = torch.FloatTensor(X_train)\n",
    "X_test = torch.FloatTensor(X_test)\n",
    "y_train = torch.LongTensor(y_train)\n",
    "y_test = torch.LongTensor(y_test)\n",
    "\n",
    "train_dataset = TensorDataset(X_train, y_train)\n",
    "test_dataset = TensorDataset(X_test, y_test)\n",
    "train_loader = DataLoader(train_dataset, batch_size=32, shuffle=True)\n",
    "test_loader = DataLoader(test_dataset, batch_size=32, shuffle=False)"
   ]
  },
  {
   "cell_type": "code",
   "execution_count": 38,
   "id": "310e2012",
   "metadata": {},
   "outputs": [],
   "source": [
    "class ANN(nn.Module):\n",
    "    def __init__(self, input_size, hidden_sizes, num_classes):\n",
    "        super(ANN, self).__init__()\n",
    "        self.fc1 = nn.Linear(input_size, hidden_sizes[0])\n",
    "        self.fc2 = nn.Linear(hidden_sizes[0], hidden_sizes[1])\n",
    "        self.fc3 = nn.Linear(hidden_sizes[1], num_classes)\n",
    "        self.relu = nn.ReLU()    \n",
    "        \n",
    "    def forward(self, x):\n",
    "        x = self.relu(self.fc1(x))\n",
    "        x = self.relu(self.fc2(x))\n",
    "        x = self.fc3(x)\n",
    "        return x"
   ]
  },
  {
   "cell_type": "code",
   "execution_count": 39,
   "id": "955eb912",
   "metadata": {},
   "outputs": [],
   "source": [
    "verified_model = ANN(input_size=4, hidden_sizes=[64, 32], num_classes=3)"
   ]
  },
  {
   "cell_type": "code",
   "execution_count": 40,
   "id": "a8359dda",
   "metadata": {},
   "outputs": [
    {
     "name": "stdout",
     "output_type": "stream",
     "text": [
      "Initial weights saved!\n",
      "Weight names: ['fc1.weight', 'fc1.bias', 'fc2.weight', 'fc2.bias', 'fc3.weight', 'fc3.bias']\n"
     ]
    }
   ],
   "source": [
    "# Save initial weights\n",
    "initial_weights = {}\n",
    "for name, param in verified_model.named_parameters():\n",
    "    initial_weights[name] = param.data.clone()\n",
    "\n",
    "print(\"Initial weights saved!\")\n",
    "print(\"Weight names:\", list(initial_weights.keys()))"
   ]
  },
  {
   "cell_type": "code",
   "execution_count": 41,
   "id": "1efb8404",
   "metadata": {},
   "outputs": [],
   "source": [
    "# Training setup\n",
    "criterion = nn.CrossEntropyLoss()\n",
    "optimizer = optim.Adam(verified_model.parameters(), lr=0.001)"
   ]
  },
  {
   "cell_type": "code",
   "execution_count": 42,
   "id": "21a211f0",
   "metadata": {},
   "outputs": [],
   "source": [
    "# Store gradients during training\n",
    "all_gradients = {name: [] for name, _ in verified_model.named_parameters()}"
   ]
  },
  {
   "cell_type": "code",
   "execution_count": 43,
   "id": "c7c64374",
   "metadata": {},
   "outputs": [
    {
     "name": "stdout",
     "output_type": "stream",
     "text": [
      "Epoch [5/30], Loss: 0.8679\n",
      "Epoch [10/30], Loss: 0.6365\n",
      "Epoch [15/30], Loss: 0.4506\n",
      "Epoch [20/30], Loss: 0.3224\n",
      "Epoch [25/30], Loss: 0.2441\n",
      "Epoch [30/30], Loss: 0.1886\n"
     ]
    }
   ],
   "source": [
    "# Training loop with gradient collection\n",
    "epochs = 30\n",
    "for epoch in range(epochs):\n",
    "    verified_model.train()\n",
    "    train_loss = 0.0\n",
    "    epoch_gradients = {name: [] for name, _ in verified_model.named_parameters()}\n",
    "    \n",
    "    for inputs, labels in train_loader:\n",
    "        optimizer.zero_grad()\n",
    "        outputs = verified_model(inputs)\n",
    "        loss = criterion(outputs, labels)\n",
    "        loss.backward()\n",
    "        \n",
    "        # Store gradients before optimizer step\n",
    "        for name, param in verified_model.named_parameters():\n",
    "            if param.grad is not None:\n",
    "                epoch_gradients[name].append(param.grad.data.clone())\n",
    "        \n",
    "        optimizer.step()\n",
    "        train_loss += loss.item()\n",
    "    \n",
    "    # Average gradients for the epoch\n",
    "    for name in epoch_gradients:\n",
    "        if epoch_gradients[name]:\n",
    "            avg_grad = torch.stack(epoch_gradients[name]).mean(dim=0)\n",
    "            all_gradients[name].append(avg_grad)\n",
    "    \n",
    "    if (epoch + 1) % 5 == 0:\n",
    "        print(f'Epoch [{epoch+1}/{epochs}], Loss: {train_loss/len(train_loader):.4f}')"
   ]
  },
  {
   "cell_type": "code",
   "execution_count": null,
   "id": "1513a4ba",
   "metadata": {},
   "outputs": [
    {
     "name": "stdout",
     "output_type": "stream",
     "text": [
      "\n",
      "Trained weights saved!\n"
     ]
    }
   ],
   "source": [
    "# Save trained weights\n",
    "trained_weights = {}\n",
    "for name, param in verified_model.named_parameters():\n",
    "    trained_weights[name] = param.data.clone()\n"
   ]
  },
  {
   "cell_type": "code",
   "execution_count": null,
   "id": "b31e8964",
   "metadata": {},
   "outputs": [
    {
     "name": "stdout",
     "output_type": "stream",
     "text": [
      "Test Accuracy: 100.00%\n",
      "Train Accuracy: 95.83%\n"
     ]
    }
   ],
   "source": [
    "# Evaluation\n",
    "verified_model.eval()\n",
    "correct = 0\n",
    "total = 0\n",
    "with torch.no_grad():\n",
    "    for inputs, labels in test_loader:\n",
    "        outputs = verified_model(inputs)\n",
    "        _, predicted = torch.max(outputs.data, 1)\n",
    "        total += labels.size(0)\n",
    "        correct += (predicted == labels).sum().item()\n",
    "\n",
    "print(f'Test Accuracy: {100 * correct / total:.2f}%')\n",
    "\n",
    "verified_model.eval()\n",
    "correct = 0\n",
    "total = 0\n",
    "with torch.no_grad():\n",
    "    for inputs, labels in train_loader:\n",
    "        outputs = verified_model(inputs)\n",
    "        _, predicted = torch.max(outputs.data, 1)\n",
    "        total += labels.size(0)\n",
    "        correct += (predicted == labels).sum().item()\n"
   ]
  },
  {
   "cell_type": "code",
   "execution_count": 46,
   "id": "0c0398c6",
   "metadata": {},
   "outputs": [],
   "source": [
    "reverse_model = ANN(input_size=4, hidden_sizes=[64, 32], num_classes=3)"
   ]
  },
  {
   "cell_type": "code",
   "execution_count": 47,
   "id": "a1e2fffb",
   "metadata": {},
   "outputs": [],
   "source": [
    "# Load trained weights into reverse model\n",
    "for name, param in reverse_model.named_parameters():\n",
    "    param.data = trained_weights[name].clone()\n"
   ]
  },
  {
   "cell_type": "code",
   "execution_count": 48,
   "id": "bd5aabe9",
   "metadata": {},
   "outputs": [
    {
     "name": "stdout",
     "output_type": "stream",
     "text": [
      "\n",
      "Verifying reverse model has trained weights...\n",
      "fc1.weight: max difference = 0.0\n",
      "fc1.bias: max difference = 0.0\n",
      "fc2.weight: max difference = 0.0\n",
      "fc2.bias: max difference = 0.0\n",
      "fc3.weight: max difference = 0.0\n",
      "fc3.bias: max difference = 0.0\n"
     ]
    }
   ],
   "source": [
    "# Verify reverse model has trained weights\n",
    "print(\"\\nVerifying reverse model has trained weights...\")\n",
    "for name, param in reverse_model.named_parameters():\n",
    "    diff = torch.abs(param.data - trained_weights[name]).max().item()\n",
    "    print(f\"{name}: max difference = {diff}\")"
   ]
  },
  {
   "cell_type": "code",
   "execution_count": null,
   "id": "dea4f490",
   "metadata": {},
   "outputs": [
    {
     "name": "stdout",
     "output_type": "stream",
     "text": [
      "\n",
      "Reverse gradient descent completed!\n"
     ]
    }
   ],
   "source": [
    "# Apply reverse gradient descent\n",
    "learning_rate = 0.001  \n",
    "for epoch in reversed(range(epochs)):\n",
    "    # Get gradients for this epoch (in reverse order)\n",
    "    for name, param in reverse_model.named_parameters():\n",
    "        if epoch < len(all_gradients[name]):\n",
    "            # Apply negative gradient (reverse direction)\n",
    "            grad = all_gradients[name][epoch]\n",
    "            param.data -= learning_rate * grad  #minus because we going backwards\n"
   ]
  },
  {
   "cell_type": "code",
   "execution_count": 50,
   "id": "0bd2cd36",
   "metadata": {},
   "outputs": [
    {
     "name": "stdout",
     "output_type": "stream",
     "text": [
      "\n",
      "==================================================\n",
      "Comparing reversed weights with initial weights\n",
      "==================================================\n",
      "fc1.weight:\n",
      "  Max difference: 0.128142\n",
      "  Mean difference: 0.068203\n",
      "fc1.bias:\n",
      "  Max difference: 0.135451\n",
      "  Mean difference: 0.075556\n",
      "fc2.weight:\n",
      "  Max difference: 0.139203\n",
      "  Mean difference: 0.043468\n",
      "fc2.bias:\n",
      "  Max difference: 0.102118\n",
      "  Mean difference: 0.043764\n",
      "fc3.weight:\n",
      "  Max difference: 0.132350\n",
      "  Mean difference: 0.056631\n",
      "fc3.bias:\n",
      "  Max difference: 0.015287\n",
      "  Mean difference: 0.010952\n",
      "\n",
      "All weights within tolerance (0.001)? False\n"
     ]
    },
    {
     "data": {
      "image/png": "[encoded data removed]",
      "text/plain": [
       "<Figure size 1000x600 with 1 Axes>"
      ]
     },
     "metadata": {},
     "output_type": "display_data"
    }
   ],
   "source": [
    "# Compare with initial weights\n",
    "print(\"\\n\" + \"=\"*50)\n",
    "print(\"Comparing reversed weights with initial weights\")\n",
    "print(\"=\"*50)\n",
    "\n",
    "max_differences = {}\n",
    "for name, param in reverse_model.named_parameters():\n",
    "    diff = torch.abs(param.data - initial_weights[name])\n",
    "    max_diff = diff.max().item()\n",
    "    mean_diff = diff.mean().item()\n",
    "    max_differences[name] = max_diff\n",
    "    print(f\"{name}:\")\n",
    "    print(f\"  Max difference: {max_diff:.6f}\")\n",
    "    print(f\"  Mean difference: {mean_diff:.6f}\")\n",
    "\n",
    "# Check if weights are approximately equal\n",
    "tolerance = 1e-3\n",
    "all_close = all(diff < tolerance for diff in max_differences.values())\n",
    "print(f\"\\nAll weights within tolerance ({tolerance})? {all_close}\")\n",
    "\n",
    "# Visualize the differences\n",
    "plt.figure(figsize=(10, 6))\n",
    "names = list(max_differences.keys())\n",
    "differences = list(max_differences.values())\n",
    "plt.bar(names, differences)\n",
    "plt.xlabel('Parameter')\n",
    "plt.ylabel('Max Absolute Difference')\n",
    "plt.title('Difference between Initial and Reversed Weights')\n",
    "plt.xticks(rotation=45)\n",
    "plt.tight_layout()\n",
    "plt.show()"
   ]
  },
  {
   "cell_type": "code",
   "execution_count": null,
   "id": "4a5d6db6",
   "metadata": {},
   "outputs": [],
   "source": [
    "def reverse_gradient_descent(model, target_weights, gradients, lr=0.001, epochs=30):\n",
    "\n",
    "    reverse_model = ANN(input_size=4, hidden_sizes=[64, 32], num_classes=3)\n",
    "    \n",
    "    for name, param in reverse_model.named_parameters():\n",
    "        param.data = target_weights[name].clone()\n",
    "    \n",
    "    for epoch in reversed(range(epochs)):\n",
    "        for name, param in reverse_model.named_parameters():\n",
    "            if epoch < len(gradients[name]):\n",
    "                grad = gradients[name][epoch]\n",
    "                param.data -= lr * grad\n",
    "    \n",
    "    \n",
    "    reversed_weights = {}\n",
    "    for name, param in reverse_model.named_parameters():\n",
    "        reversed_weights[name] = param.data.clone()\n",
    "    \n",
    "    return reversed_weights"
   ]
  }
 ],
 "metadata": {
  "kernelspec": {
   "display_name": "Python 3",
   "language": "python",
   "name": "python3"
  },
  "language_info": {
   "codemirror_mode": {
    "name": "ipython",
    "version": 3
   },
   "file_extension": ".py",
   "mimetype": "text/x-python",
   "name": "python",
   "nbconvert_exporter": "python",
   "pygments_lexer": "ipython3",
   "version": "3.11.9"
  }
 },
 "nbformat": 4,
 "nbformat_minor": 5
}
