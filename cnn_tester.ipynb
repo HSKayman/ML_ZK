{
 "cells": [
  {
   "cell_type": "code",
   "execution_count": null,
   "metadata": {},
   "outputs": [],
   "source": [
    "\n",
    "#!pip install torch \n",
    "#!pip install torchsummary\n",
    "#!pip install torchvision\n",
    "\n",
    "\n",
    "import torch\n",
    "import os\n",
    "import torch.nn as nn\n",
    "import torch.optim as optim\n",
    "import torch.nn.functional as F\n",
    "from torchsummary import summary\n",
    "import matplotlib.pyplot as plt\n",
    "from torchvision import datasets, transforms\n",
    "from torch.utils.data import DataLoader, random_split\n",
    "from cnn_trainer import CNN\n",
    "\n",
    "model_dir = '.pth'\n",
    "test_data_dir = 'data_for_model_1/test/'\n",
    "\n",
    "# Load the model\n",
    "model = CNN(num_classes=2)\n",
    "model.load_state_dict(torch.load(model_dir))\n",
    "model.eval() \n",
    "\n",
    "# Convert input picture to tensor\n",
    "transform = transforms.Compose([\n",
    "        transforms.Grayscale(num_output_channels=1),  # Convert to grayscale\n",
    "        transforms.Resize((21, 21)),                  # Resize to desired dimensions\n",
    "        transforms.ToTensor()   \n",
    "   ])\n",
    "\n",
    "# Load data set\n",
    "dataset = datasets.ImageFolder(test_data_dir,transform=transform)\n",
    "\n",
    "batch_size = 1\n",
    "test_loader = DataLoader(dataset, batch_size=batch_size, shuffle=True)\n",
    "\n",
    "print(\"Classes:\", dataset.classes)\n",
    "print(\"Training samples:\", dataset)\n",
    "\n",
    "# Test the model\n",
    "correct = 0.0\n",
    "wrong_predictions = {\"pictures\": [], \"probs\": [], \"predictions\":[],\"targets\":[]}\n"
   ]
  },
  {
   "cell_type": "code",
   "execution_count": 4,
   "metadata": {},
   "outputs": [
    {
     "name": "stdout",
     "output_type": "stream",
     "text": [
      "Accuracy: 99.00%\n"
     ]
    }
   ],
   "source": [
    "with torch.no_grad():\n",
    "    for images, targets in test_loader:\n",
    "        \n",
    "        outputs = model(images)\n",
    "        _, predicted = torch.max(outputs, 1)\n",
    "\n",
    "        if predicted.item() != targets.item():\n",
    "            # Convert from (C, H, W) to (H, W, C)\n",
    "            image = images[0].permute(1, 2, 0).numpy()  \n",
    "            wrong_predictions[\"pictures\"].append(image)\n",
    "\n",
    "            # Get probability of the predicted class\n",
    "            prob = nn.functional.softmax(outputs, dim=1)[0][predicted.item()]\n",
    "            wrong_predictions[\"probs\"].append(prob)\n",
    "\n",
    "            # Get the predicted class\n",
    "            wrong_predictions[\"predictions\"].append(dataset.classes[predicted.item()])\n",
    "            wrong_predictions[\"targets\"].append(dataset.classes[targets.item()])\n",
    "            \n",
    "        correct += (predicted == targets).sum().item()\n",
    "\n",
    "print(f\"Accuracy: {100 * correct / len(dataset):.2f}%\")\n"
   ]
  },
  {
   "cell_type": "code",
   "execution_count": null,
   "metadata": {},
   "outputs": [],
   "source": [
    "# Plot wrong predictions\n",
    "fig = plt.figure(figsize=(20, 10))\n",
    "with torch.no_grad():\n",
    "    for i in range(min(10,len(wrong_predictions[\"pictures\"]))):\n",
    "        \n",
    "        plt.imshow(wrong_predictions[\"pictures\"][i])\n",
    "        plt.title(f\"There are {int(correct)} correct and {int(len(dataset)-correct)} wrong predictions (only 10 are shown)\\nWrong Prediction  {i+1} of {min(10,len(wrong_predictions['pictures']))} \\nWrongly predicted as {wrong_predictions['predictions'][i]} with prob: {wrong_predictions['probs'][i]:.2f} \\n Target was {wrong_predictions['targets'][i]}\")\n",
    "        plt.axis('off')\n",
    "        # plt.savefig(f'wrong_predictions_of_{model_dir[:-4]}_in_test_data/wrong_prediction_{i}.png')\n",
    "        plt.show()"
   ]
  },
  {
   "cell_type": "code",
   "execution_count": null,
   "metadata": {},
   "outputs": [],
   "source": []
  },
  {
   "cell_type": "code",
   "execution_count": null,
   "metadata": {},
   "outputs": [],
   "source": []
  }
 ],
 "metadata": {
  "kernelspec": {
   "display_name": "Python 3",
   "language": "python",
   "name": "python3"
  },
  "language_info": {
   "codemirror_mode": {
    "name": "ipython",
    "version": 3
   },
   "file_extension": ".py",
   "mimetype": "text/x-python",
   "name": "python",
   "nbconvert_exporter": "python",
   "pygments_lexer": "ipython3",
   "version": "3.11.9"
  }
 },
 "nbformat": 4,
 "nbformat_minor": 2
}
