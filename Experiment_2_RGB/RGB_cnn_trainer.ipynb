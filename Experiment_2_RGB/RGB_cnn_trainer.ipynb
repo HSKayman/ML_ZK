{
 "cells": [
  {
   "cell_type": "code",
   "execution_count": 1,
   "metadata": {},
   "outputs": [],
   "source": [
    "#!pip install torch \n",
    "#!pip install torchsummary\n",
    "#!pip install torchvision\n"
   ]
  },
  {
   "cell_type": "code",
   "execution_count": 2,
   "metadata": {},
   "outputs": [],
   "source": [
    "import torch\n",
    "from datetime import datetime\n",
    "import time\n",
    "import torch.nn as nn\n",
    "import torch.optim as optim\n",
    "import torch.nn.functional as F\n",
    "from torchsummary import summary\n",
    "from torchvision import datasets, transforms\n",
    "from torch.utils.data import DataLoader, random_split\n",
    "from model_structure import CNN\n",
    "from sklearn.metrics import f1_score, accuracy_score, precision_score, recall_score, confusion_matrix\n",
    "import numpy as np\n",
    "import seaborn as sns\n",
    "import matplotlib.pyplot as plt\n",
    "from tqdm import tqdm\n"
   ]
  },
  {
   "cell_type": "code",
   "execution_count": 3,
   "metadata": {},
   "outputs": [
    {
     "name": "stdout",
     "output_type": "stream",
     "text": [
      "Using device: cuda\n"
     ]
    }
   ],
   "source": [
    "device = torch.device(\"cuda\" if torch.cuda.is_available() else \"cpu\")\n",
    "print(f\"Using device: {device}\")"
   ]
  },
  {
   "cell_type": "code",
   "execution_count": 4,
   "metadata": {},
   "outputs": [],
   "source": [
    "model = CNN().to(device)"
   ]
  },
  {
   "cell_type": "code",
   "execution_count": 5,
   "metadata": {},
   "outputs": [
    {
     "name": "stdout",
     "output_type": "stream",
     "text": [
      "----------------------------------------------------------------\n",
      "        Layer (type)               Output Shape         Param #\n",
      "================================================================\n",
      "            Conv2d-1         [-1, 32, 224, 224]             896\n",
      "              ReLU-2         [-1, 32, 224, 224]               0\n",
      "         MaxPool2d-3         [-1, 32, 112, 112]               0\n",
      "            Conv2d-4         [-1, 64, 112, 112]          18,496\n",
      "              ReLU-5         [-1, 64, 112, 112]               0\n",
      "         MaxPool2d-6           [-1, 64, 56, 56]               0\n",
      "            Conv2d-7          [-1, 128, 56, 56]          73,856\n",
      "              ReLU-8          [-1, 128, 56, 56]               0\n",
      "         MaxPool2d-9          [-1, 128, 28, 28]               0\n",
      "           Conv2d-10          [-1, 256, 28, 28]         295,168\n",
      "             ReLU-11          [-1, 256, 28, 28]               0\n",
      "        MaxPool2d-12          [-1, 256, 14, 14]               0\n",
      "           Linear-13                  [-1, 512]      25,690,624\n",
      "             ReLU-14                  [-1, 512]               0\n",
      "          Dropout-15                  [-1, 512]               0\n",
      "           Linear-16                    [-1, 1]             513\n",
      "          Sigmoid-17                    [-1, 1]               0\n",
      "================================================================\n",
      "Total params: 26,079,553\n",
      "Trainable params: 26,079,553\n",
      "Non-trainable params: 0\n",
      "----------------------------------------------------------------\n",
      "Input size (MB): 0.57\n",
      "Forward/backward pass size (MB): 51.69\n",
      "Params size (MB): 99.49\n",
      "Estimated Total Size (MB): 151.75\n",
      "----------------------------------------------------------------\n"
     ]
    }
   ],
   "source": [
    "summary(model, (3, 224, 224))"
   ]
  },
  {
   "cell_type": "code",
   "execution_count": 6,
   "metadata": {},
   "outputs": [],
   "source": [
    "loss_func = nn.BCELoss()\n",
    "optimizer = optim.Adam(model.parameters())\n",
    "\n",
    "transform = transforms.Compose([\n",
    "        transforms.Resize((224, 224)),\n",
    "        transforms.ToTensor(),\n",
    "        transforms.Normalize(mean=[0.485, 0.456, 0.406],\n",
    "                           std=[0.229, 0.224, 0.225])\n",
    "    ])"
   ]
  },
  {
   "cell_type": "code",
   "execution_count": 7,
   "metadata": {},
   "outputs": [],
   "source": [
    "model_number = 2\n",
    "# Set data set directory\n",
    "data_dir = f'RGB_data_for_model_{model_number}/train/'\n",
    "test_dir = f'RGB_data_for_model_{model_number}/test/'\n",
    "\n",
    "# Load data set\n",
    "dataset = datasets.ImageFolder(data_dir,transform=transform)\n",
    "test_dataset = datasets.ImageFolder(test_dir,transform=transform)\n",
    "\n",
    "batch_size = 32\n",
    "train_loader = DataLoader(dataset, batch_size=batch_size, shuffle=True)\n",
    "test_loader = DataLoader(test_dataset, batch_size=batch_size, shuffle=False)\n",
    "    "
   ]
  },
  {
   "cell_type": "code",
   "execution_count": 8,
   "metadata": {},
   "outputs": [
    {
     "name": "stdout",
     "output_type": "stream",
     "text": [
      "Noof classes: 2\n",
      "Classes: ['asquirrel', 'dog']\n",
      "Total samples: 3000\n"
     ]
    }
   ],
   "source": [
    "print(f\"Noof classes: {len(dataset.classes)}\")\n",
    "print(f\"Classes: {dataset.classes}\")\n",
    "print(f\"Total samples: {len(dataset)}\")"
   ]
  },
  {
   "cell_type": "code",
   "execution_count": 9,
   "metadata": {},
   "outputs": [],
   "source": [
    "num_epochs = 50"
   ]
  },
  {
   "cell_type": "code",
   "execution_count": 10,
   "metadata": {},
   "outputs": [
    {
     "name": "stderr",
     "output_type": "stream",
     "text": [
      "Epoch 1/50 [Test]: 100%|██████████| 7/7 [00:01<00:00,  3.51it/s]\n"
     ]
    },
    {
     "name": "stdout",
     "output_type": "stream",
     "text": [
      "\n",
      "Epoch 1/50 - Time: 39.74s\n",
      "Train Loss: 0.6586\n",
      "Test Loss: 0.5125\n",
      "\n",
      "Test Metrics:\n",
      "Accuracy: 0.7300\n",
      "F1 Score: 0.7245\n",
      "Precision: 0.7396\n",
      "Recall: 0.7100\n",
      "\n",
      "Confusion Matrix:\n",
      "[[75 25]\n",
      " [29 71]]\n",
      "------------------------------------------------------------\n"
     ]
    },
    {
     "name": "stderr",
     "output_type": "stream",
     "text": [
      "Epoch 2/50 [Train]: 100%|██████████| 94/94 [00:18<00:00,  5.14it/s, loss=0.4752]\n",
      "Epoch 2/50 [Test]: 100%|██████████| 7/7 [00:00<00:00,  8.58it/s]\n"
     ]
    },
    {
     "name": "stdout",
     "output_type": "stream",
     "text": [
      "\n",
      "Epoch 2/50 - Time: 19.13s\n",
      "Train Loss: 0.4949\n",
      "Test Loss: 0.4044\n",
      "\n",
      "Test Metrics:\n",
      "Accuracy: 0.7900\n",
      "F1 Score: 0.7941\n",
      "Precision: 0.7788\n",
      "Recall: 0.8100\n",
      "\n",
      "Confusion Matrix:\n",
      "[[77 23]\n",
      " [19 81]]\n",
      "------------------------------------------------------------\n"
     ]
    },
    {
     "name": "stderr",
     "output_type": "stream",
     "text": [
      "Epoch 3/50 [Train]: 100%|██████████| 94/94 [00:18<00:00,  5.08it/s, loss=0.3904]\n",
      "Epoch 3/50 [Test]: 100%|██████████| 7/7 [00:00<00:00,  8.03it/s]\n"
     ]
    },
    {
     "name": "stdout",
     "output_type": "stream",
     "text": [
      "\n",
      "Epoch 3/50 - Time: 19.39s\n",
      "Train Loss: 0.4259\n",
      "Test Loss: 0.3657\n",
      "\n",
      "Test Metrics:\n",
      "Accuracy: 0.8500\n",
      "F1 Score: 0.8673\n",
      "Precision: 0.7778\n",
      "Recall: 0.9800\n",
      "\n",
      "Confusion Matrix:\n",
      "[[72 28]\n",
      " [ 2 98]]\n",
      "------------------------------------------------------------\n"
     ]
    },
    {
     "name": "stderr",
     "output_type": "stream",
     "text": [
      "Epoch 4/50 [Train]: 100%|██████████| 94/94 [00:20<00:00,  4.58it/s, loss=0.2450]\n",
      "Epoch 4/50 [Test]: 100%|██████████| 7/7 [00:01<00:00,  6.51it/s]\n"
     ]
    },
    {
     "name": "stdout",
     "output_type": "stream",
     "text": [
      "\n",
      "Epoch 4/50 - Time: 21.62s\n",
      "Train Loss: 0.3646\n",
      "Test Loss: 0.3700\n",
      "\n",
      "Test Metrics:\n",
      "Accuracy: 0.8200\n",
      "F1 Score: 0.8144\n",
      "Precision: 0.8404\n",
      "Recall: 0.7900\n",
      "\n",
      "Confusion Matrix:\n",
      "[[85 15]\n",
      " [21 79]]\n",
      "------------------------------------------------------------\n"
     ]
    },
    {
     "name": "stderr",
     "output_type": "stream",
     "text": [
      "Epoch 5/50 [Train]: 100%|██████████| 94/94 [00:22<00:00,  4.23it/s, loss=0.2062]\n",
      "Epoch 5/50 [Test]: 100%|██████████| 7/7 [00:00<00:00,  7.03it/s]\n"
     ]
    },
    {
     "name": "stdout",
     "output_type": "stream",
     "text": [
      "\n",
      "Epoch 5/50 - Time: 23.22s\n",
      "Train Loss: 0.3167\n",
      "Test Loss: 0.3160\n",
      "\n",
      "Test Metrics:\n",
      "Accuracy: 0.8400\n",
      "F1 Score: 0.8400\n",
      "Precision: 0.8400\n",
      "Recall: 0.8400\n",
      "\n",
      "Confusion Matrix:\n",
      "[[84 16]\n",
      " [16 84]]\n",
      "------------------------------------------------------------\n"
     ]
    },
    {
     "name": "stderr",
     "output_type": "stream",
     "text": [
      "Epoch 6/50 [Train]: 100%|██████████| 94/94 [00:20<00:00,  4.57it/s, loss=0.3137]\n",
      "Epoch 6/50 [Test]: 100%|██████████| 7/7 [00:01<00:00,  6.46it/s]\n"
     ]
    },
    {
     "name": "stdout",
     "output_type": "stream",
     "text": [
      "\n",
      "Epoch 6/50 - Time: 21.65s\n",
      "Train Loss: 0.2984\n",
      "Test Loss: 0.3217\n",
      "\n",
      "Test Metrics:\n",
      "Accuracy: 0.8300\n",
      "F1 Score: 0.8247\n",
      "Precision: 0.8511\n",
      "Recall: 0.8000\n",
      "\n",
      "Confusion Matrix:\n",
      "[[86 14]\n",
      " [20 80]]\n",
      "------------------------------------------------------------\n"
     ]
    },
    {
     "name": "stderr",
     "output_type": "stream",
     "text": [
      "Epoch 7/50 [Train]: 100%|██████████| 94/94 [00:21<00:00,  4.33it/s, loss=0.1958]\n",
      "Epoch 7/50 [Test]: 100%|██████████| 7/7 [00:00<00:00,  8.34it/s]\n"
     ]
    },
    {
     "name": "stdout",
     "output_type": "stream",
     "text": [
      "\n",
      "Epoch 7/50 - Time: 22.58s\n",
      "Train Loss: 0.2411\n",
      "Test Loss: 0.2488\n",
      "\n",
      "Test Metrics:\n",
      "Accuracy: 0.8800\n",
      "F1 Score: 0.8788\n",
      "Precision: 0.8878\n",
      "Recall: 0.8700\n",
      "\n",
      "Confusion Matrix:\n",
      "[[89 11]\n",
      " [13 87]]\n",
      "------------------------------------------------------------\n"
     ]
    },
    {
     "name": "stderr",
     "output_type": "stream",
     "text": [
      "Epoch 8/50 [Train]: 100%|██████████| 94/94 [00:27<00:00,  3.37it/s, loss=0.0986]\n",
      "Epoch 8/50 [Test]: 100%|██████████| 7/7 [00:01<00:00,  3.71it/s]\n"
     ]
    },
    {
     "name": "stdout",
     "output_type": "stream",
     "text": [
      "\n",
      "Epoch 8/50 - Time: 29.78s\n",
      "Train Loss: 0.1899\n",
      "Test Loss: 0.4250\n",
      "\n",
      "Test Metrics:\n",
      "Accuracy: 0.8350\n",
      "F1 Score: 0.8533\n",
      "Precision: 0.7680\n",
      "Recall: 0.9600\n",
      "\n",
      "Confusion Matrix:\n",
      "[[71 29]\n",
      " [ 4 96]]\n",
      "------------------------------------------------------------\n"
     ]
    },
    {
     "name": "stderr",
     "output_type": "stream",
     "text": [
      "Epoch 9/50 [Train]: 100%|██████████| 94/94 [00:33<00:00,  2.82it/s, loss=0.1993]\n",
      "Epoch 9/50 [Test]: 100%|██████████| 7/7 [00:00<00:00,  7.43it/s]\n"
     ]
    },
    {
     "name": "stdout",
     "output_type": "stream",
     "text": [
      "\n",
      "Epoch 9/50 - Time: 34.26s\n",
      "Train Loss: 0.1625\n",
      "Test Loss: 0.3376\n",
      "\n",
      "Test Metrics:\n",
      "Accuracy: 0.8750\n",
      "F1 Score: 0.8731\n",
      "Precision: 0.8866\n",
      "Recall: 0.8600\n",
      "\n",
      "Confusion Matrix:\n",
      "[[89 11]\n",
      " [14 86]]\n",
      "------------------------------------------------------------\n"
     ]
    },
    {
     "name": "stderr",
     "output_type": "stream",
     "text": [
      "Epoch 10/50 [Train]: 100%|██████████| 94/94 [00:22<00:00,  4.12it/s, loss=0.1425]\n",
      "Epoch 10/50 [Test]: 100%|██████████| 7/7 [00:00<00:00,  8.59it/s]\n"
     ]
    },
    {
     "name": "stdout",
     "output_type": "stream",
     "text": [
      "\n",
      "Epoch 10/50 - Time: 23.61s\n",
      "Train Loss: 0.1329\n",
      "Test Loss: 0.4086\n",
      "\n",
      "Test Metrics:\n",
      "Accuracy: 0.8800\n",
      "F1 Score: 0.8846\n",
      "Precision: 0.8519\n",
      "Recall: 0.9200\n",
      "\n",
      "Confusion Matrix:\n",
      "[[84 16]\n",
      " [ 8 92]]\n",
      "------------------------------------------------------------\n"
     ]
    },
    {
     "name": "stderr",
     "output_type": "stream",
     "text": [
      "Epoch 11/50 [Train]: 100%|██████████| 94/94 [00:24<00:00,  3.82it/s, loss=0.1833]\n",
      "Epoch 11/50 [Test]: 100%|██████████| 7/7 [00:01<00:00,  5.36it/s]\n"
     ]
    },
    {
     "name": "stdout",
     "output_type": "stream",
     "text": [
      "\n",
      "Epoch 11/50 - Time: 25.92s\n",
      "Train Loss: 0.0798\n",
      "Test Loss: 0.4333\n",
      "\n",
      "Test Metrics:\n",
      "Accuracy: 0.8650\n",
      "F1 Score: 0.8615\n",
      "Precision: 0.8842\n",
      "Recall: 0.8400\n",
      "\n",
      "Confusion Matrix:\n",
      "[[89 11]\n",
      " [16 84]]\n",
      "------------------------------------------------------------\n"
     ]
    },
    {
     "name": "stderr",
     "output_type": "stream",
     "text": [
      "Epoch 12/50 [Train]: 100%|██████████| 94/94 [00:22<00:00,  4.11it/s, loss=0.0260]\n",
      "Epoch 12/50 [Test]: 100%|██████████| 7/7 [00:01<00:00,  4.69it/s]\n"
     ]
    },
    {
     "name": "stdout",
     "output_type": "stream",
     "text": [
      "\n",
      "Epoch 12/50 - Time: 24.35s\n",
      "Train Loss: 0.0604\n",
      "Test Loss: 1.2768\n",
      "\n",
      "Test Metrics:\n",
      "Accuracy: 0.8750\n",
      "F1 Score: 0.8826\n",
      "Precision: 0.8319\n",
      "Recall: 0.9400\n",
      "\n",
      "Confusion Matrix:\n",
      "[[81 19]\n",
      " [ 6 94]]\n",
      "------------------------------------------------------------\n"
     ]
    },
    {
     "name": "stderr",
     "output_type": "stream",
     "text": [
      "Epoch 13/50 [Train]: 100%|██████████| 94/94 [00:29<00:00,  3.20it/s, loss=0.0567]\n",
      "Epoch 13/50 [Test]: 100%|██████████| 7/7 [00:01<00:00,  6.45it/s]\n"
     ]
    },
    {
     "name": "stdout",
     "output_type": "stream",
     "text": [
      "\n",
      "Epoch 13/50 - Time: 30.51s\n",
      "Train Loss: 0.0636\n",
      "Test Loss: 0.4489\n",
      "\n",
      "Test Metrics:\n",
      "Accuracy: 0.8700\n",
      "F1 Score: 0.8785\n",
      "Precision: 0.8246\n",
      "Recall: 0.9400\n",
      "\n",
      "Confusion Matrix:\n",
      "[[80 20]\n",
      " [ 6 94]]\n",
      "------------------------------------------------------------\n"
     ]
    },
    {
     "name": "stderr",
     "output_type": "stream",
     "text": [
      "Epoch 14/50 [Train]: 100%|██████████| 94/94 [00:23<00:00,  4.07it/s, loss=0.0287]\n",
      "Epoch 14/50 [Test]: 100%|██████████| 7/7 [00:00<00:00,  7.36it/s]\n"
     ]
    },
    {
     "name": "stdout",
     "output_type": "stream",
     "text": [
      "\n",
      "Epoch 14/50 - Time: 24.08s\n",
      "Train Loss: 0.0802\n",
      "Test Loss: 0.3920\n",
      "\n",
      "Test Metrics:\n",
      "Accuracy: 0.8800\n",
      "F1 Score: 0.8835\n",
      "Precision: 0.8585\n",
      "Recall: 0.9100\n",
      "\n",
      "Confusion Matrix:\n",
      "[[85 15]\n",
      " [ 9 91]]\n",
      "------------------------------------------------------------\n"
     ]
    },
    {
     "name": "stderr",
     "output_type": "stream",
     "text": [
      "Epoch 15/50 [Train]: 100%|██████████| 94/94 [00:22<00:00,  4.18it/s, loss=0.0118]\n",
      "Epoch 15/50 [Test]: 100%|██████████| 7/7 [00:01<00:00,  6.50it/s]\n"
     ]
    },
    {
     "name": "stdout",
     "output_type": "stream",
     "text": [
      "\n",
      "Epoch 15/50 - Time: 23.57s\n",
      "Train Loss: 0.0370\n",
      "Test Loss: 0.8317\n",
      "\n",
      "Test Metrics:\n",
      "Accuracy: 0.8850\n",
      "F1 Score: 0.8920\n",
      "Precision: 0.8407\n",
      "Recall: 0.9500\n",
      "\n",
      "Confusion Matrix:\n",
      "[[82 18]\n",
      " [ 5 95]]\n",
      "------------------------------------------------------------\n"
     ]
    },
    {
     "name": "stderr",
     "output_type": "stream",
     "text": [
      "Epoch 16/50 [Train]: 100%|██████████| 94/94 [00:25<00:00,  3.68it/s, loss=0.0005]\n",
      "Epoch 16/50 [Test]: 100%|██████████| 7/7 [00:01<00:00,  5.69it/s]\n"
     ]
    },
    {
     "name": "stdout",
     "output_type": "stream",
     "text": [
      "\n",
      "Epoch 16/50 - Time: 26.79s\n",
      "Train Loss: 0.0225\n",
      "Test Loss: 0.9731\n",
      "\n",
      "Test Metrics:\n",
      "Accuracy: 0.8950\n",
      "F1 Score: 0.8986\n",
      "Precision: 0.8692\n",
      "Recall: 0.9300\n",
      "\n",
      "Confusion Matrix:\n",
      "[[86 14]\n",
      " [ 7 93]]\n",
      "------------------------------------------------------------\n"
     ]
    },
    {
     "name": "stderr",
     "output_type": "stream",
     "text": [
      "Epoch 17/50 [Train]: 100%|██████████| 94/94 [00:23<00:00,  4.07it/s, loss=0.0050]\n",
      "Epoch 17/50 [Test]: 100%|██████████| 7/7 [00:01<00:00,  4.57it/s]\n"
     ]
    },
    {
     "name": "stdout",
     "output_type": "stream",
     "text": [
      "\n",
      "Epoch 17/50 - Time: 24.66s\n",
      "Train Loss: 0.0270\n",
      "Test Loss: 0.5904\n",
      "\n",
      "Test Metrics:\n",
      "Accuracy: 0.8400\n",
      "F1 Score: 0.8333\n",
      "Precision: 0.8696\n",
      "Recall: 0.8000\n",
      "\n",
      "Confusion Matrix:\n",
      "[[88 12]\n",
      " [20 80]]\n",
      "------------------------------------------------------------\n"
     ]
    },
    {
     "name": "stderr",
     "output_type": "stream",
     "text": [
      "Epoch 18/50 [Train]: 100%|██████████| 94/94 [00:25<00:00,  3.63it/s, loss=0.0173]\n",
      "Epoch 18/50 [Test]: 100%|██████████| 7/7 [00:01<00:00,  4.06it/s]\n"
     ]
    },
    {
     "name": "stdout",
     "output_type": "stream",
     "text": [
      "\n",
      "Epoch 18/50 - Time: 27.65s\n",
      "Train Loss: 0.0401\n",
      "Test Loss: 1.1718\n",
      "\n",
      "Test Metrics:\n",
      "Accuracy: 0.8250\n",
      "F1 Score: 0.8066\n",
      "Precision: 0.9012\n",
      "Recall: 0.7300\n",
      "\n",
      "Confusion Matrix:\n",
      "[[92  8]\n",
      " [27 73]]\n",
      "------------------------------------------------------------\n"
     ]
    },
    {
     "name": "stderr",
     "output_type": "stream",
     "text": [
      "Epoch 19/50 [Train]: 100%|██████████| 94/94 [00:25<00:00,  3.75it/s, loss=0.0245]\n",
      "Epoch 19/50 [Test]: 100%|██████████| 7/7 [00:00<00:00,  8.64it/s]\n"
     ]
    },
    {
     "name": "stdout",
     "output_type": "stream",
     "text": [
      "\n",
      "Epoch 19/50 - Time: 25.88s\n",
      "Train Loss: 0.0206\n",
      "Test Loss: 1.3500\n",
      "\n",
      "Test Metrics:\n",
      "Accuracy: 0.8700\n",
      "F1 Score: 0.8750\n",
      "Precision: 0.8426\n",
      "Recall: 0.9100\n",
      "\n",
      "Confusion Matrix:\n",
      "[[83 17]\n",
      " [ 9 91]]\n",
      "------------------------------------------------------------\n"
     ]
    },
    {
     "name": "stderr",
     "output_type": "stream",
     "text": [
      "Epoch 20/50 [Train]: 100%|██████████| 94/94 [00:22<00:00,  4.13it/s, loss=0.0175]\n",
      "Epoch 20/50 [Test]: 100%|██████████| 7/7 [00:01<00:00,  4.83it/s]\n"
     ]
    },
    {
     "name": "stdout",
     "output_type": "stream",
     "text": [
      "\n",
      "Epoch 20/50 - Time: 24.21s\n",
      "Train Loss: 0.0101\n",
      "Test Loss: 0.9321\n",
      "\n",
      "Test Metrics:\n",
      "Accuracy: 0.8700\n",
      "F1 Score: 0.8687\n",
      "Precision: 0.8776\n",
      "Recall: 0.8600\n",
      "\n",
      "Confusion Matrix:\n",
      "[[88 12]\n",
      " [14 86]]\n",
      "------------------------------------------------------------\n"
     ]
    },
    {
     "name": "stderr",
     "output_type": "stream",
     "text": [
      "Epoch 21/50 [Train]: 100%|██████████| 94/94 [00:24<00:00,  3.78it/s, loss=0.0347]\n",
      "Epoch 21/50 [Test]: 100%|██████████| 7/7 [00:01<00:00,  5.83it/s]\n"
     ]
    },
    {
     "name": "stdout",
     "output_type": "stream",
     "text": [
      "\n",
      "Epoch 21/50 - Time: 26.11s\n",
      "Train Loss: 0.0514\n",
      "Test Loss: 0.8758\n",
      "\n",
      "Test Metrics:\n",
      "Accuracy: 0.8700\n",
      "F1 Score: 0.8738\n",
      "Precision: 0.8491\n",
      "Recall: 0.9000\n",
      "\n",
      "Confusion Matrix:\n",
      "[[84 16]\n",
      " [10 90]]\n",
      "------------------------------------------------------------\n"
     ]
    },
    {
     "name": "stderr",
     "output_type": "stream",
     "text": [
      "Epoch 22/50 [Train]: 100%|██████████| 94/94 [00:22<00:00,  4.19it/s, loss=0.0013]\n",
      "Epoch 22/50 [Test]: 100%|██████████| 7/7 [00:00<00:00,  7.19it/s]\n"
     ]
    },
    {
     "name": "stdout",
     "output_type": "stream",
     "text": [
      "\n",
      "Epoch 22/50 - Time: 23.44s\n",
      "Train Loss: 0.0269\n",
      "Test Loss: 0.5086\n",
      "\n",
      "Test Metrics:\n",
      "Accuracy: 0.8750\n",
      "F1 Score: 0.8792\n",
      "Precision: 0.8505\n",
      "Recall: 0.9100\n",
      "\n",
      "Confusion Matrix:\n",
      "[[84 16]\n",
      " [ 9 91]]\n",
      "------------------------------------------------------------\n"
     ]
    },
    {
     "name": "stderr",
     "output_type": "stream",
     "text": [
      "Epoch 23/50 [Train]: 100%|██████████| 94/94 [00:31<00:00,  2.98it/s, loss=0.0166]\n",
      "Epoch 23/50 [Test]: 100%|██████████| 7/7 [00:01<00:00,  3.78it/s]\n"
     ]
    },
    {
     "name": "stdout",
     "output_type": "stream",
     "text": [
      "\n",
      "Epoch 23/50 - Time: 33.45s\n",
      "Train Loss: 0.0644\n",
      "Test Loss: 0.5004\n",
      "\n",
      "Test Metrics:\n",
      "Accuracy: 0.9000\n",
      "F1 Score: 0.9038\n",
      "Precision: 0.8704\n",
      "Recall: 0.9400\n",
      "\n",
      "Confusion Matrix:\n",
      "[[86 14]\n",
      " [ 6 94]]\n",
      "------------------------------------------------------------\n"
     ]
    },
    {
     "name": "stderr",
     "output_type": "stream",
     "text": [
      "Epoch 24/50 [Train]: 100%|██████████| 94/94 [00:25<00:00,  3.69it/s, loss=0.0950]\n",
      "Epoch 24/50 [Test]: 100%|██████████| 7/7 [00:01<00:00,  3.96it/s]\n"
     ]
    },
    {
     "name": "stdout",
     "output_type": "stream",
     "text": [
      "\n",
      "Epoch 24/50 - Time: 27.27s\n",
      "Train Loss: 0.0211\n",
      "Test Loss: 0.9949\n",
      "\n",
      "Test Metrics:\n",
      "Accuracy: 0.8850\n",
      "F1 Score: 0.8889\n",
      "Precision: 0.8598\n",
      "Recall: 0.9200\n",
      "\n",
      "Confusion Matrix:\n",
      "[[85 15]\n",
      " [ 8 92]]\n",
      "------------------------------------------------------------\n"
     ]
    },
    {
     "name": "stderr",
     "output_type": "stream",
     "text": [
      "Epoch 25/50 [Train]: 100%|██████████| 94/94 [00:23<00:00,  3.92it/s, loss=0.0020]\n",
      "Epoch 25/50 [Test]: 100%|██████████| 7/7 [00:01<00:00,  6.06it/s]\n"
     ]
    },
    {
     "name": "stdout",
     "output_type": "stream",
     "text": [
      "\n",
      "Epoch 25/50 - Time: 25.16s\n",
      "Train Loss: 0.0205\n",
      "Test Loss: 0.5693\n",
      "\n",
      "Test Metrics:\n",
      "Accuracy: 0.8900\n",
      "F1 Score: 0.8972\n",
      "Precision: 0.8421\n",
      "Recall: 0.9600\n",
      "\n",
      "Confusion Matrix:\n",
      "[[82 18]\n",
      " [ 4 96]]\n",
      "------------------------------------------------------------\n"
     ]
    },
    {
     "name": "stderr",
     "output_type": "stream",
     "text": [
      "Epoch 26/50 [Train]: 100%|██████████| 94/94 [00:22<00:00,  4.23it/s, loss=0.0003]\n",
      "Epoch 26/50 [Test]: 100%|██████████| 7/7 [00:01<00:00,  6.16it/s]\n"
     ]
    },
    {
     "name": "stdout",
     "output_type": "stream",
     "text": [
      "\n",
      "Epoch 26/50 - Time: 23.36s\n",
      "Train Loss: 0.0075\n",
      "Test Loss: 0.7324\n",
      "\n",
      "Test Metrics:\n",
      "Accuracy: 0.8550\n",
      "F1 Score: 0.8557\n",
      "Precision: 0.8515\n",
      "Recall: 0.8600\n",
      "\n",
      "Confusion Matrix:\n",
      "[[85 15]\n",
      " [14 86]]\n",
      "------------------------------------------------------------\n"
     ]
    },
    {
     "name": "stderr",
     "output_type": "stream",
     "text": [
      "Epoch 27/50 [Train]: 100%|██████████| 94/94 [00:31<00:00,  3.01it/s, loss=0.0000]\n",
      "Epoch 27/50 [Test]: 100%|██████████| 7/7 [00:02<00:00,  2.77it/s]\n"
     ]
    },
    {
     "name": "stdout",
     "output_type": "stream",
     "text": [
      "\n",
      "Epoch 27/50 - Time: 33.77s\n",
      "Train Loss: 0.0118\n",
      "Test Loss: 1.5524\n",
      "\n",
      "Test Metrics:\n",
      "Accuracy: 0.8800\n",
      "F1 Score: 0.8800\n",
      "Precision: 0.8800\n",
      "Recall: 0.8800\n",
      "\n",
      "Confusion Matrix:\n",
      "[[88 12]\n",
      " [12 88]]\n",
      "------------------------------------------------------------\n"
     ]
    },
    {
     "name": "stderr",
     "output_type": "stream",
     "text": [
      "Epoch 28/50 [Train]: 100%|██████████| 94/94 [00:29<00:00,  3.15it/s, loss=0.0024]\n",
      "Epoch 28/50 [Test]: 100%|██████████| 7/7 [00:01<00:00,  4.30it/s]\n"
     ]
    },
    {
     "name": "stdout",
     "output_type": "stream",
     "text": [
      "\n",
      "Epoch 28/50 - Time: 31.52s\n",
      "Train Loss: 0.0368\n",
      "Test Loss: 1.0038\n",
      "\n",
      "Test Metrics:\n",
      "Accuracy: 0.8550\n",
      "F1 Score: 0.8612\n",
      "Precision: 0.8257\n",
      "Recall: 0.9000\n",
      "\n",
      "Confusion Matrix:\n",
      "[[81 19]\n",
      " [10 90]]\n",
      "------------------------------------------------------------\n"
     ]
    },
    {
     "name": "stderr",
     "output_type": "stream",
     "text": [
      "Epoch 29/50 [Train]: 100%|██████████| 94/94 [00:38<00:00,  2.45it/s, loss=0.0024]\n",
      "Epoch 29/50 [Test]: 100%|██████████| 7/7 [00:01<00:00,  3.98it/s]\n"
     ]
    },
    {
     "name": "stdout",
     "output_type": "stream",
     "text": [
      "\n",
      "Epoch 29/50 - Time: 40.17s\n",
      "Train Loss: 0.0118\n",
      "Test Loss: 1.0404\n",
      "\n",
      "Test Metrics:\n",
      "Accuracy: 0.8950\n",
      "F1 Score: 0.8995\n",
      "Precision: 0.8624\n",
      "Recall: 0.9400\n",
      "\n",
      "Confusion Matrix:\n",
      "[[85 15]\n",
      " [ 6 94]]\n",
      "------------------------------------------------------------\n"
     ]
    },
    {
     "name": "stderr",
     "output_type": "stream",
     "text": [
      "Epoch 30/50 [Train]: 100%|██████████| 94/94 [00:45<00:00,  2.09it/s, loss=0.0001]\n",
      "Epoch 30/50 [Test]: 100%|██████████| 7/7 [00:02<00:00,  3.37it/s]\n"
     ]
    },
    {
     "name": "stdout",
     "output_type": "stream",
     "text": [
      "\n",
      "Epoch 30/50 - Time: 47.18s\n",
      "Train Loss: 0.0013\n",
      "Test Loss: 1.6355\n",
      "\n",
      "Test Metrics:\n",
      "Accuracy: 0.8850\n",
      "F1 Score: 0.8930\n",
      "Precision: 0.8348\n",
      "Recall: 0.9600\n",
      "\n",
      "Confusion Matrix:\n",
      "[[81 19]\n",
      " [ 4 96]]\n",
      "------------------------------------------------------------\n"
     ]
    },
    {
     "name": "stderr",
     "output_type": "stream",
     "text": [
      "Epoch 31/50 [Train]: 100%|██████████| 94/94 [00:35<00:00,  2.65it/s, loss=0.0004]\n",
      "Epoch 31/50 [Test]: 100%|██████████| 7/7 [00:02<00:00,  2.97it/s]\n"
     ]
    },
    {
     "name": "stdout",
     "output_type": "stream",
     "text": [
      "\n",
      "Epoch 31/50 - Time: 37.83s\n",
      "Train Loss: 0.0007\n",
      "Test Loss: 1.5995\n",
      "\n",
      "Test Metrics:\n",
      "Accuracy: 0.8700\n",
      "F1 Score: 0.8750\n",
      "Precision: 0.8426\n",
      "Recall: 0.9100\n",
      "\n",
      "Confusion Matrix:\n",
      "[[83 17]\n",
      " [ 9 91]]\n",
      "------------------------------------------------------------\n"
     ]
    },
    {
     "name": "stderr",
     "output_type": "stream",
     "text": [
      "Epoch 32/50 [Train]: 100%|██████████| 94/94 [00:27<00:00,  3.37it/s, loss=0.0001]\n",
      "Epoch 32/50 [Test]: 100%|██████████| 7/7 [00:01<00:00,  4.60it/s]\n"
     ]
    },
    {
     "name": "stdout",
     "output_type": "stream",
     "text": [
      "\n",
      "Epoch 32/50 - Time: 29.45s\n",
      "Train Loss: 0.0006\n",
      "Test Loss: 1.5833\n",
      "\n",
      "Test Metrics:\n",
      "Accuracy: 0.8800\n",
      "F1 Score: 0.8857\n",
      "Precision: 0.8455\n",
      "Recall: 0.9300\n",
      "\n",
      "Confusion Matrix:\n",
      "[[83 17]\n",
      " [ 7 93]]\n",
      "------------------------------------------------------------\n"
     ]
    },
    {
     "name": "stderr",
     "output_type": "stream",
     "text": [
      "Epoch 33/50 [Train]: 100%|██████████| 94/94 [00:25<00:00,  3.62it/s, loss=0.0003]\n",
      "Epoch 33/50 [Test]: 100%|██████████| 7/7 [00:01<00:00,  5.46it/s]\n"
     ]
    },
    {
     "name": "stdout",
     "output_type": "stream",
     "text": [
      "\n",
      "Epoch 33/50 - Time: 27.25s\n",
      "Train Loss: 0.0015\n",
      "Test Loss: 1.1452\n",
      "\n",
      "Test Metrics:\n",
      "Accuracy: 0.8750\n",
      "F1 Score: 0.8780\n",
      "Precision: 0.8571\n",
      "Recall: 0.9000\n",
      "\n",
      "Confusion Matrix:\n",
      "[[85 15]\n",
      " [10 90]]\n",
      "------------------------------------------------------------\n"
     ]
    },
    {
     "name": "stderr",
     "output_type": "stream",
     "text": [
      "Epoch 34/50 [Train]: 100%|██████████| 94/94 [00:41<00:00,  2.29it/s, loss=0.1696]\n",
      "Epoch 34/50 [Test]: 100%|██████████| 7/7 [00:01<00:00,  3.55it/s]\n"
     ]
    },
    {
     "name": "stdout",
     "output_type": "stream",
     "text": [
      "\n",
      "Epoch 34/50 - Time: 43.01s\n",
      "Train Loss: 0.0042\n",
      "Test Loss: 0.7985\n",
      "\n",
      "Test Metrics:\n",
      "Accuracy: 0.8850\n",
      "F1 Score: 0.8900\n",
      "Precision: 0.8532\n",
      "Recall: 0.9300\n",
      "\n",
      "Confusion Matrix:\n",
      "[[84 16]\n",
      " [ 7 93]]\n",
      "------------------------------------------------------------\n"
     ]
    },
    {
     "name": "stderr",
     "output_type": "stream",
     "text": [
      "Epoch 35/50 [Train]: 100%|██████████| 94/94 [00:37<00:00,  2.52it/s, loss=0.1078]\n",
      "Epoch 35/50 [Test]: 100%|██████████| 7/7 [00:01<00:00,  4.14it/s]\n"
     ]
    },
    {
     "name": "stdout",
     "output_type": "stream",
     "text": [
      "\n",
      "Epoch 35/50 - Time: 39.05s\n",
      "Train Loss: 0.0512\n",
      "Test Loss: 2.4173\n",
      "\n",
      "Test Metrics:\n",
      "Accuracy: 0.8350\n",
      "F1 Score: 0.8421\n",
      "Precision: 0.8073\n",
      "Recall: 0.8800\n",
      "\n",
      "Confusion Matrix:\n",
      "[[79 21]\n",
      " [12 88]]\n",
      "------------------------------------------------------------\n"
     ]
    },
    {
     "name": "stderr",
     "output_type": "stream",
     "text": [
      "Epoch 36/50 [Train]: 100%|██████████| 94/94 [00:28<00:00,  3.30it/s, loss=0.0515]\n",
      "Epoch 36/50 [Test]: 100%|██████████| 7/7 [00:01<00:00,  6.88it/s]\n"
     ]
    },
    {
     "name": "stdout",
     "output_type": "stream",
     "text": [
      "\n",
      "Epoch 36/50 - Time: 29.48s\n",
      "Train Loss: 0.0678\n",
      "Test Loss: 0.6164\n",
      "\n",
      "Test Metrics:\n",
      "Accuracy: 0.8250\n",
      "F1 Score: 0.8168\n",
      "Precision: 0.8571\n",
      "Recall: 0.7800\n",
      "\n",
      "Confusion Matrix:\n",
      "[[87 13]\n",
      " [22 78]]\n",
      "------------------------------------------------------------\n"
     ]
    },
    {
     "name": "stderr",
     "output_type": "stream",
     "text": [
      "Epoch 37/50 [Train]: 100%|██████████| 94/94 [00:31<00:00,  3.02it/s, loss=0.0015]\n",
      "Epoch 37/50 [Test]: 100%|██████████| 7/7 [00:01<00:00,  4.90it/s]\n"
     ]
    },
    {
     "name": "stdout",
     "output_type": "stream",
     "text": [
      "\n",
      "Epoch 37/50 - Time: 32.57s\n",
      "Train Loss: 0.0266\n",
      "Test Loss: 0.7659\n",
      "\n",
      "Test Metrics:\n",
      "Accuracy: 0.8550\n",
      "F1 Score: 0.8599\n",
      "Precision: 0.8318\n",
      "Recall: 0.8900\n",
      "\n",
      "Confusion Matrix:\n",
      "[[82 18]\n",
      " [11 89]]\n",
      "------------------------------------------------------------\n"
     ]
    },
    {
     "name": "stderr",
     "output_type": "stream",
     "text": [
      "Epoch 38/50 [Train]: 100%|██████████| 94/94 [00:29<00:00,  3.20it/s, loss=0.0004]\n",
      "Epoch 38/50 [Test]: 100%|██████████| 7/7 [00:01<00:00,  6.58it/s]\n"
     ]
    },
    {
     "name": "stdout",
     "output_type": "stream",
     "text": [
      "\n",
      "Epoch 38/50 - Time: 30.49s\n",
      "Train Loss: 0.0154\n",
      "Test Loss: 1.3861\n",
      "\n",
      "Test Metrics:\n",
      "Accuracy: 0.8300\n",
      "F1 Score: 0.8333\n",
      "Precision: 0.8173\n",
      "Recall: 0.8500\n",
      "\n",
      "Confusion Matrix:\n",
      "[[81 19]\n",
      " [15 85]]\n",
      "------------------------------------------------------------\n"
     ]
    },
    {
     "name": "stderr",
     "output_type": "stream",
     "text": [
      "Epoch 39/50 [Train]: 100%|██████████| 94/94 [00:26<00:00,  3.52it/s, loss=0.0040]\n",
      "Epoch 39/50 [Test]: 100%|██████████| 7/7 [00:01<00:00,  5.21it/s]\n"
     ]
    },
    {
     "name": "stdout",
     "output_type": "stream",
     "text": [
      "\n",
      "Epoch 39/50 - Time: 28.09s\n",
      "Train Loss: 0.0504\n",
      "Test Loss: 1.0250\n",
      "\n",
      "Test Metrics:\n",
      "Accuracy: 0.8700\n",
      "F1 Score: 0.8713\n",
      "Precision: 0.8627\n",
      "Recall: 0.8800\n",
      "\n",
      "Confusion Matrix:\n",
      "[[86 14]\n",
      " [12 88]]\n",
      "------------------------------------------------------------\n"
     ]
    },
    {
     "name": "stderr",
     "output_type": "stream",
     "text": [
      "Epoch 40/50 [Train]: 100%|██████████| 94/94 [00:29<00:00,  3.14it/s, loss=0.0115]\n",
      "Epoch 40/50 [Test]: 100%|██████████| 7/7 [00:01<00:00,  4.57it/s]\n"
     ]
    },
    {
     "name": "stdout",
     "output_type": "stream",
     "text": [
      "\n",
      "Epoch 40/50 - Time: 31.44s\n",
      "Train Loss: 0.0174\n",
      "Test Loss: 0.7100\n",
      "\n",
      "Test Metrics:\n",
      "Accuracy: 0.8650\n",
      "F1 Score: 0.8571\n",
      "Precision: 0.9101\n",
      "Recall: 0.8100\n",
      "\n",
      "Confusion Matrix:\n",
      "[[92  8]\n",
      " [19 81]]\n",
      "------------------------------------------------------------\n"
     ]
    },
    {
     "name": "stderr",
     "output_type": "stream",
     "text": [
      "Epoch 41/50 [Train]: 100%|██████████| 94/94 [00:27<00:00,  3.39it/s, loss=0.1511]\n",
      "Epoch 41/50 [Test]: 100%|██████████| 7/7 [00:01<00:00,  5.10it/s]\n"
     ]
    },
    {
     "name": "stdout",
     "output_type": "stream",
     "text": [
      "\n",
      "Epoch 41/50 - Time: 29.11s\n",
      "Train Loss: 0.0260\n",
      "Test Loss: 1.1929\n",
      "\n",
      "Test Metrics:\n",
      "Accuracy: 0.8750\n",
      "F1 Score: 0.8804\n",
      "Precision: 0.8440\n",
      "Recall: 0.9200\n",
      "\n",
      "Confusion Matrix:\n",
      "[[83 17]\n",
      " [ 8 92]]\n",
      "------------------------------------------------------------\n"
     ]
    },
    {
     "name": "stderr",
     "output_type": "stream",
     "text": [
      "Epoch 42/50 [Train]: 100%|██████████| 94/94 [00:26<00:00,  3.56it/s, loss=0.0000]\n",
      "Epoch 42/50 [Test]: 100%|██████████| 7/7 [00:01<00:00,  6.89it/s]\n"
     ]
    },
    {
     "name": "stdout",
     "output_type": "stream",
     "text": [
      "\n",
      "Epoch 42/50 - Time: 27.40s\n",
      "Train Loss: 0.0215\n",
      "Test Loss: 1.7649\n",
      "\n",
      "Test Metrics:\n",
      "Accuracy: 0.8350\n",
      "F1 Score: 0.8451\n",
      "Precision: 0.7965\n",
      "Recall: 0.9000\n",
      "\n",
      "Confusion Matrix:\n",
      "[[77 23]\n",
      " [10 90]]\n",
      "------------------------------------------------------------\n"
     ]
    },
    {
     "name": "stderr",
     "output_type": "stream",
     "text": [
      "Epoch 43/50 [Train]: 100%|██████████| 94/94 [00:26<00:00,  3.60it/s, loss=0.0001]\n",
      "Epoch 43/50 [Test]: 100%|██████████| 7/7 [00:01<00:00,  5.39it/s]\n"
     ]
    },
    {
     "name": "stdout",
     "output_type": "stream",
     "text": [
      "\n",
      "Epoch 43/50 - Time: 27.40s\n",
      "Train Loss: 0.0092\n",
      "Test Loss: 1.3807\n",
      "\n",
      "Test Metrics:\n",
      "Accuracy: 0.8300\n",
      "F1 Score: 0.8265\n",
      "Precision: 0.8438\n",
      "Recall: 0.8100\n",
      "\n",
      "Confusion Matrix:\n",
      "[[85 15]\n",
      " [19 81]]\n",
      "------------------------------------------------------------\n"
     ]
    },
    {
     "name": "stderr",
     "output_type": "stream",
     "text": [
      "Epoch 44/50 [Train]: 100%|██████████| 94/94 [00:27<00:00,  3.37it/s, loss=0.0000]\n",
      "Epoch 44/50 [Test]: 100%|██████████| 7/7 [00:01<00:00,  4.85it/s]\n"
     ]
    },
    {
     "name": "stdout",
     "output_type": "stream",
     "text": [
      "\n",
      "Epoch 44/50 - Time: 29.32s\n",
      "Train Loss: 0.0038\n",
      "Test Loss: 2.5835\n",
      "\n",
      "Test Metrics:\n",
      "Accuracy: 0.8400\n",
      "F1 Score: 0.8447\n",
      "Precision: 0.8208\n",
      "Recall: 0.8700\n",
      "\n",
      "Confusion Matrix:\n",
      "[[81 19]\n",
      " [13 87]]\n",
      "------------------------------------------------------------\n"
     ]
    },
    {
     "name": "stderr",
     "output_type": "stream",
     "text": [
      "Epoch 45/50 [Train]: 100%|██████████| 94/94 [00:27<00:00,  3.44it/s, loss=0.0000]\n",
      "Epoch 45/50 [Test]: 100%|██████████| 7/7 [00:01<00:00,  4.14it/s]\n"
     ]
    },
    {
     "name": "stdout",
     "output_type": "stream",
     "text": [
      "\n",
      "Epoch 45/50 - Time: 29.02s\n",
      "Train Loss: 0.0011\n",
      "Test Loss: 1.7973\n",
      "\n",
      "Test Metrics:\n",
      "Accuracy: 0.8500\n",
      "F1 Score: 0.8485\n",
      "Precision: 0.8571\n",
      "Recall: 0.8400\n",
      "\n",
      "Confusion Matrix:\n",
      "[[86 14]\n",
      " [16 84]]\n",
      "------------------------------------------------------------\n"
     ]
    },
    {
     "name": "stderr",
     "output_type": "stream",
     "text": [
      "Epoch 46/50 [Train]: 100%|██████████| 94/94 [00:26<00:00,  3.59it/s, loss=0.0000]\n",
      "Epoch 46/50 [Test]: 100%|██████████| 7/7 [00:01<00:00,  4.89it/s]\n"
     ]
    },
    {
     "name": "stdout",
     "output_type": "stream",
     "text": [
      "\n",
      "Epoch 46/50 - Time: 27.66s\n",
      "Train Loss: 0.0002\n",
      "Test Loss: 1.8768\n",
      "\n",
      "Test Metrics:\n",
      "Accuracy: 0.8450\n",
      "F1 Score: 0.8410\n",
      "Precision: 0.8632\n",
      "Recall: 0.8200\n",
      "\n",
      "Confusion Matrix:\n",
      "[[87 13]\n",
      " [18 82]]\n",
      "------------------------------------------------------------\n"
     ]
    },
    {
     "name": "stderr",
     "output_type": "stream",
     "text": [
      "Epoch 47/50 [Train]: 100%|██████████| 94/94 [00:27<00:00,  3.36it/s, loss=0.0005]\n",
      "Epoch 47/50 [Test]: 100%|██████████| 7/7 [00:01<00:00,  4.09it/s]\n"
     ]
    },
    {
     "name": "stdout",
     "output_type": "stream",
     "text": [
      "\n",
      "Epoch 47/50 - Time: 29.70s\n",
      "Train Loss: 0.0001\n",
      "Test Loss: 2.1397\n",
      "\n",
      "Test Metrics:\n",
      "Accuracy: 0.8500\n",
      "F1 Score: 0.8500\n",
      "Precision: 0.8500\n",
      "Recall: 0.8500\n",
      "\n",
      "Confusion Matrix:\n",
      "[[85 15]\n",
      " [15 85]]\n",
      "------------------------------------------------------------\n"
     ]
    },
    {
     "name": "stderr",
     "output_type": "stream",
     "text": [
      "Epoch 48/50 [Train]: 100%|██████████| 94/94 [00:29<00:00,  3.22it/s, loss=0.0000]\n",
      "Epoch 48/50 [Test]: 100%|██████████| 7/7 [00:01<00:00,  5.06it/s]\n"
     ]
    },
    {
     "name": "stdout",
     "output_type": "stream",
     "text": [
      "\n",
      "Epoch 48/50 - Time: 30.64s\n",
      "Train Loss: 0.0003\n",
      "Test Loss: 2.5125\n",
      "\n",
      "Test Metrics:\n",
      "Accuracy: 0.8650\n",
      "F1 Score: 0.8670\n",
      "Precision: 0.8544\n",
      "Recall: 0.8800\n",
      "\n",
      "Confusion Matrix:\n",
      "[[85 15]\n",
      " [12 88]]\n",
      "------------------------------------------------------------\n"
     ]
    },
    {
     "name": "stderr",
     "output_type": "stream",
     "text": [
      "Epoch 49/50 [Train]: 100%|██████████| 94/94 [00:26<00:00,  3.52it/s, loss=0.0000]\n",
      "Epoch 49/50 [Test]: 100%|██████████| 7/7 [00:01<00:00,  4.56it/s]\n"
     ]
    },
    {
     "name": "stdout",
     "output_type": "stream",
     "text": [
      "\n",
      "Epoch 49/50 - Time: 28.27s\n",
      "Train Loss: 0.0003\n",
      "Test Loss: 1.8356\n",
      "\n",
      "Test Metrics:\n",
      "Accuracy: 0.8600\n",
      "F1 Score: 0.8586\n",
      "Precision: 0.8673\n",
      "Recall: 0.8500\n",
      "\n",
      "Confusion Matrix:\n",
      "[[87 13]\n",
      " [15 85]]\n",
      "------------------------------------------------------------\n"
     ]
    },
    {
     "name": "stderr",
     "output_type": "stream",
     "text": [
      "Epoch 50/50 [Train]: 100%|██████████| 94/94 [00:27<00:00,  3.44it/s, loss=0.0000]\n",
      "Epoch 50/50 [Test]: 100%|██████████| 7/7 [00:01<00:00,  5.39it/s]"
     ]
    },
    {
     "name": "stdout",
     "output_type": "stream",
     "text": [
      "\n",
      "Epoch 50/50 - Time: 28.64s\n",
      "Train Loss: 0.0002\n",
      "Test Loss: 2.1025\n",
      "\n",
      "Test Metrics:\n",
      "Accuracy: 0.8650\n",
      "F1 Score: 0.8683\n",
      "Precision: 0.8476\n",
      "Recall: 0.8900\n",
      "\n",
      "Confusion Matrix:\n",
      "[[84 16]\n",
      " [11 89]]\n",
      "------------------------------------------------------------\n"
     ]
    },
    {
     "name": "stderr",
     "output_type": "stream",
     "text": [
      "\n"
     ]
    }
   ],
   "source": [
    "train_losses = []\n",
    "test_metrics = {\n",
    "    'accuracy': [], 'f1': [], \n",
    "    'precision': [], 'recall': []\n",
    "}\n",
    "\n",
    "for epoch in range(num_epochs):\n",
    "    start_time = time.time()\n",
    "    \n",
    "    # Training Phase\n",
    "    model.train()\n",
    "    train_loss = 0.0\n",
    "    train_preds = []\n",
    "    train_targets = []\n",
    "    \n",
    "    # Progress bar for training\n",
    "    train_pbar = tqdm(train_loader, desc=f'Epoch {epoch+1}/{num_epochs} [Train]')\n",
    "    \n",
    "    for inputs, labels in train_pbar:\n",
    "        inputs = inputs.to(device)\n",
    "        labels = labels.float().to(device)\n",
    "        \n",
    "        optimizer.zero_grad()\n",
    "        outputs = model(inputs)\n",
    "        loss = loss_func(outputs.squeeze(), labels)\n",
    "        \n",
    "        loss.backward()\n",
    "        optimizer.step()\n",
    "        \n",
    "        train_loss += loss.item()\n",
    "        \n",
    "        # Store predictions and targets for metrics\n",
    "        preds = (outputs.squeeze() > 0.5).float().cpu().detach().numpy()\n",
    "        train_preds.extend(preds)\n",
    "        train_targets.extend(labels.cpu().numpy())\n",
    "        \n",
    "        # Update progress bar\n",
    "        train_pbar.set_postfix({'loss': f'{loss.item():.4f}'})\n",
    "    \n",
    "    avg_train_loss = train_loss / len(train_loader)\n",
    "    train_losses.append(avg_train_loss)\n",
    "    \n",
    "    # Testing Phase\n",
    "    model.eval()\n",
    "    test_loss = 0.0\n",
    "    test_preds = []\n",
    "    test_targets = []\n",
    "    \n",
    "    # Progress bar for testing\n",
    "    test_pbar = tqdm(test_loader, desc=f'Epoch {epoch+1}/{num_epochs} [Test]')\n",
    "    \n",
    "    with torch.no_grad():\n",
    "        for inputs, labels in test_pbar:\n",
    "            inputs = inputs.to(device)\n",
    "            labels = labels.float().to(device)\n",
    "            \n",
    "            outputs = model(inputs)\n",
    "            loss = loss_func(outputs.squeeze(), labels)\n",
    "            test_loss += loss.item()\n",
    "            \n",
    "            preds = (outputs.squeeze() > 0.5).float().cpu().numpy()\n",
    "            test_preds.extend(preds)\n",
    "            test_targets.extend(labels.cpu().numpy())\n",
    "    \n",
    "    # Calculate metrics\n",
    "    test_accuracy = accuracy_score(test_targets, test_preds)\n",
    "    test_f1 = f1_score(test_targets, test_preds, zero_division=0)\n",
    "    test_precision = precision_score(test_targets, test_preds, zero_division=0)\n",
    "    test_recall = recall_score(test_targets, test_preds, zero_division=0)\n",
    "    \n",
    "    # Store metrics\n",
    "    test_metrics['accuracy'].append(test_accuracy)\n",
    "    test_metrics['f1'].append(test_f1)\n",
    "    test_metrics['precision'].append(test_precision)\n",
    "    test_metrics['recall'].append(test_recall)\n",
    "    \n",
    "    # Calculate confusion matrix\n",
    "    cm = confusion_matrix(test_targets, test_preds)\n",
    "    \n",
    "    # Calculate time taken for epoch\n",
    "    epoch_time = time.time() - start_time\n",
    "    \n",
    "    # Print detailed metrics\n",
    "    print(f'\\nEpoch {epoch+1}/{num_epochs} - Time: {epoch_time:.2f}s')\n",
    "    print(f'Train Loss: {avg_train_loss:.4f}')\n",
    "    print(f'Test Loss: {test_loss/len(test_loader):.4f}')\n",
    "    print('\\nTest Metrics:')\n",
    "    print(f'Accuracy: {test_accuracy:.4f}')\n",
    "    print(f'F1 Score: {test_f1:.4f}')\n",
    "    print(f'Precision: {test_precision:.4f}')\n",
    "    print(f'Recall: {test_recall:.4f}')\n",
    "    print('\\nConfusion Matrix:')\n",
    "    print(cm)\n",
    "    print('-' * 60)\n",
    "    times = datetime.now().strftime(\"%Y_%m_%d_%H_%M_%S\")\n",
    "    if test_f1 == max(test_metrics['f1']):\n",
    "        torch.save({\n",
    "            'epoch': epoch,\n",
    "            'model_state_dict': model.state_dict(),\n",
    "            'optimizer_state_dict': optimizer.state_dict(),\n",
    "            'train_loss': avg_train_loss,\n",
    "            'test_metrics': test_metrics\n",
    "        }, f'CNN_model_{model_number}_final_{times}.pth')\n",
    "    "
   ]
  },
  {
   "cell_type": "code",
   "execution_count": 11,
   "metadata": {},
   "outputs": [],
   "source": [
    "fig, (ax1, ax2) = plt.subplots(1, 2, figsize=(15, 5))\n",
    "    \n",
    "# Plot training loss\n",
    "epochs = range(1, len(train_losses) + 1)\n",
    "ax1.plot(epochs, train_losses, 'b-', label='Training Loss')\n",
    "ax1.set_title('Training Loss Over Time')\n",
    "ax1.set_xlabel('Epochs')\n",
    "ax1.set_ylabel('Loss')\n",
    "ax1.legend()\n",
    "\n",
    "# Plot test metrics\n",
    "for metric in test_metrics:\n",
    "    ax2.plot(epochs, test_metrics[metric], label=metric.capitalize())\n",
    "ax2.set_title('Test Metrics Over Time')\n",
    "ax2.set_xlabel('Epochs')\n",
    "ax2.set_ylabel('Score')\n",
    "ax2.legend()\n",
    "\n",
    "plt.tight_layout()\n",
    "plt.savefig(f'CNN_model_{model_number}_final_metrics.png')\n",
    "plt.close()"
   ]
  },
  {
   "cell_type": "code",
   "execution_count": null,
   "metadata": {},
   "outputs": [],
   "source": []
  }
 ],
 "metadata": {
  "kernelspec": {
   "display_name": "Python 3",
   "language": "python",
   "name": "python3"
  },
  "language_info": {
   "codemirror_mode": {
    "name": "ipython",
    "version": 3
   },
   "file_extension": ".py",
   "mimetype": "text/x-python",
   "name": "python",
   "nbconvert_exporter": "python",
   "pygments_lexer": "ipython3",
   "version": "3.11.9"
  }
 },
 "nbformat": 4,
 "nbformat_minor": 2
}
